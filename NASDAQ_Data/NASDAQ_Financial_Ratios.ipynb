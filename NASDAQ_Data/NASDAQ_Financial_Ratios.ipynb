{
 "cells": [
  {
   "cell_type": "code",
   "execution_count": 3,
   "metadata": {},
   "outputs": [
    {
     "ename": "ModuleNotFoundError",
     "evalue": "No module named 'api_keys_ml'",
     "output_type": "error",
     "traceback": [
      "\u001b[0;31m---------------------------------------------------------------------------\u001b[0m",
      "\u001b[0;31mModuleNotFoundError\u001b[0m                       Traceback (most recent call last)",
      "\u001b[0;32m<ipython-input-3-c84763c1a060>\u001b[0m in \u001b[0;36m<module>\u001b[0;34m\u001b[0m\n\u001b[1;32m      4\u001b[0m \u001b[0;32mimport\u001b[0m \u001b[0mmatplotlib\u001b[0m\u001b[0;34m.\u001b[0m\u001b[0mpyplot\u001b[0m \u001b[0;32mas\u001b[0m \u001b[0mplt\u001b[0m\u001b[0;34m\u001b[0m\u001b[0;34m\u001b[0m\u001b[0m\n\u001b[1;32m      5\u001b[0m \u001b[0;32mimport\u001b[0m \u001b[0mnumpy\u001b[0m \u001b[0;32mas\u001b[0m \u001b[0mnp\u001b[0m\u001b[0;34m\u001b[0m\u001b[0;34m\u001b[0m\u001b[0m\n\u001b[0;32m----> 6\u001b[0;31m \u001b[0;32mfrom\u001b[0m \u001b[0mapi_keys_ml\u001b[0m \u001b[0;32mimport\u001b[0m \u001b[0mapi_key\u001b[0m\u001b[0;34m\u001b[0m\u001b[0;34m\u001b[0m\u001b[0m\n\u001b[0m",
      "\u001b[0;31mModuleNotFoundError\u001b[0m: No module named 'api_keys_ml'"
     ]
    }
   ],
   "source": [
    "import json\n",
    "import requests\n",
    "import pandas as pd\n",
    "import matplotlib.pyplot as plt\n",
    "import numpy as np\n",
    "from api_keys_ml import api_key"
   ]
  },
  {
   "cell_type": "code",
   "execution_count": 2,
   "metadata": {},
   "outputs": [
    {
     "ename": "NameError",
     "evalue": "name 'api_key' is not defined",
     "output_type": "error",
     "traceback": [
      "\u001b[0;31m---------------------------------------------------------------------------\u001b[0m",
      "\u001b[0;31mNameError\u001b[0m                                 Traceback (most recent call last)",
      "\u001b[0;32m<ipython-input-2-ac2824fc572e>\u001b[0m in \u001b[0;36m<module>\u001b[0;34m\u001b[0m\n\u001b[0;32m----> 1\u001b[0;31m \u001b[0mnasdaq_url\u001b[0m \u001b[0;34m=\u001b[0m \u001b[0;34m'https://financialmodelingprep.com/api/v3/nasdaq_constituent?apikey='\u001b[0m \u001b[0;34m+\u001b[0m \u001b[0mapi_key\u001b[0m\u001b[0;34m\u001b[0m\u001b[0;34m\u001b[0m\u001b[0m\n\u001b[0m",
      "\u001b[0;31mNameError\u001b[0m: name 'api_key' is not defined"
     ]
    }
   ],
   "source": [
    "nasdaq_url = 'https://financialmodelingprep.com/api/v3/nasdaq_constituent?apikey=' + api_key"
   ]
  },
  {
   "cell_type": "code",
   "execution_count": null,
   "metadata": {},
   "outputs": [],
   "source": [
    "nasdaq_list_response = requests.get(nasdaq_url).json()"
   ]
  },
  {
   "cell_type": "code",
   "execution_count": null,
   "metadata": {},
   "outputs": [],
   "source": [
    "# collect a list of the NASDAQ constituents\n",
    "nasdaq_companies = []\n",
    "company_tickers = []\n",
    "\n",
    "for company in nasdaq_list_response:\n",
    "    nasdaq_companies.append(company['name'])\n",
    "    company_tickers.append(company['symbol'])"
   ]
  },
  {
   "cell_type": "code",
   "execution_count": null,
   "metadata": {},
   "outputs": [],
   "source": [
    "data = {'Company': company_tickers, 'Q1 P/E': ['' for i in range(len(company_tickers))], \n",
    "        'Q2 P/E': ['' for i in range(len(company_tickers))], \n",
    "        'Q3 P/E': ['' for i in range(len(company_tickers))], \n",
    "        'Q1 ROE': ['' for i in range(len(company_tickers))], \n",
    "        'Q2 ROE': ['' for i in range(len(company_tickers))], \n",
    "        'Q3 ROE': ['' for i in range(len(company_tickers))], \n",
    "        'Q1 Date': ['' for i in range(len(company_tickers))],\n",
    "        'Q2 Date': ['' for i in range(len(company_tickers))],\n",
    "        'Q3 Date': ['' for i in range(len(company_tickers))],\n",
    "       }\n",
    "nasdaq_df = pd.DataFrame(data=data)\n",
    "nasdaq_df.head()"
   ]
  },
  {
   "cell_type": "code",
   "execution_count": null,
   "metadata": {},
   "outputs": [],
   "source": [
    "# gather data on price/earnings ratio AND returns on equity for each company for the last three quarters\n",
    "for index, row in nasdaq_df.iterrows():\n",
    "    ticker = row['Company']\n",
    "    quarterly_ratio_url = f'https://financialmodelingprep.com/api/v3/ratios/{ticker}?period=quarter&limit=3&apikey={api_key}' \n",
    "    response = requests.get(quarterly_ratio_url).json()\n",
    "\n",
    "    try:\n",
    "        nasdaq_df.loc[index, 'Q3 P/E'] = response[0]['priceEarningsRatio']\n",
    "        nasdaq_df.loc[index, 'Q2 P/E'] = response[1]['priceEarningsRatio']\n",
    "        nasdaq_df.loc[index, 'Q1 P/E'] = response[2]['priceEarningsRatio']\n",
    "        nasdaq_df.loc[index, 'Q3 ROE'] = response[0]['returnOnEquity']\n",
    "        nasdaq_df.loc[index, 'Q2 ROE'] = response[1]['returnOnEquity']\n",
    "        nasdaq_df.loc[index, 'Q1 ROE'] = response[2]['returnOnEquity']\n",
    "        nasdaq_df.loc[index, 'Q3 Date'] = response[0]['date']\n",
    "        nasdaq_df.loc[index, 'Q2 Date'] = response[1]['date']\n",
    "        nasdaq_df.loc[index, 'Q1 Date'] = response[2]['date']\n",
    "    except IndexError:\n",
    "        print('Missing NASDAQ information')\n",
    "\n",
    "    \n",
    "    "
   ]
  },
  {
   "cell_type": "code",
   "execution_count": null,
   "metadata": {},
   "outputs": [],
   "source": [
    "nasdaq_df.head()"
   ]
  },
  {
   "cell_type": "code",
   "execution_count": null,
   "metadata": {},
   "outputs": [],
   "source": [
    "nasdaq_df.to_csv('../output/nasdaq_financial_ratios.csv')"
   ]
  },
  {
   "cell_type": "code",
   "execution_count": null,
   "metadata": {},
   "outputs": [],
   "source": [
    "x_values = nasdaq_df[\"Q1 ROE\"].mean().to_list()"
   ]
  },
  {
   "cell_type": "code",
   "execution_count": null,
   "metadata": {},
   "outputs": [],
   "source": []
  }
 ],
 "metadata": {
  "kernelspec": {
   "display_name": "Python 3",
   "language": "python",
   "name": "python3"
  },
  "language_info": {
   "codemirror_mode": {
    "name": "ipython",
    "version": 3
   },
   "file_extension": ".py",
   "mimetype": "text/x-python",
   "name": "python",
   "nbconvert_exporter": "python",
   "pygments_lexer": "ipython3",
   "version": "3.6.12"
  }
 },
 "nbformat": 4,
 "nbformat_minor": 4
}
