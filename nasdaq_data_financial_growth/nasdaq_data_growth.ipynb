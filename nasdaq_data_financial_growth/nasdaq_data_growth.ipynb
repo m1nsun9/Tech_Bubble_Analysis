{
 "cells": [
  {
   "cell_type": "code",
   "execution_count": 1,
   "metadata": {},
   "outputs": [],
   "source": [
    "import json\n",
    "import requests\n",
    "import pandas as pd\n",
    "import matplotlib.pyplot as plt\n",
    "import numpy as np\n",
    "from api_key_jp import api_key"
   ]
  },
  {
   "cell_type": "code",
   "execution_count": 2,
   "metadata": {},
   "outputs": [],
   "source": [
    "nasdaq_url = 'https://financialmodelingprep.com/api/v3/nasdaq_constituent?apikey=' + api_key"
   ]
  },
  {
   "cell_type": "code",
   "execution_count": 3,
   "metadata": {},
   "outputs": [],
   "source": [
    "nasdaq_list_response = requests.get(nasdaq_url).json()"
   ]
  },
  {
   "cell_type": "code",
   "execution_count": 4,
   "metadata": {},
   "outputs": [],
   "source": [
    "nasdaq_companies = []\n",
    "company_tickers = []\n",
    "\n",
    "for company in nasdaq_list_response:\n",
    "    nasdaq_companies.append(company['name'])\n",
    "    company_tickers.append(company['symbol'])"
   ]
  },
  {
   "cell_type": "code",
   "execution_count": 5,
   "metadata": {},
   "outputs": [
    {
     "data": {
      "text/html": [
       "<div>\n",
       "<style scoped>\n",
       "    .dataframe tbody tr th:only-of-type {\n",
       "        vertical-align: middle;\n",
       "    }\n",
       "\n",
       "    .dataframe tbody tr th {\n",
       "        vertical-align: top;\n",
       "    }\n",
       "\n",
       "    .dataframe thead th {\n",
       "        text-align: right;\n",
       "    }\n",
       "</style>\n",
       "<table border=\"1\" class=\"dataframe\">\n",
       "  <thead>\n",
       "    <tr style=\"text-align: right;\">\n",
       "      <th></th>\n",
       "      <th>Company</th>\n",
       "      <th>Q1 Op Income Growth</th>\n",
       "      <th>Q2 Op Income Growth</th>\n",
       "      <th>Q3 Op Income Growth</th>\n",
       "      <th>Q1 EPS Growth</th>\n",
       "      <th>Q2 EPS Growth</th>\n",
       "      <th>Q3 EPS Growth</th>\n",
       "      <th>Q1 Rev Growth</th>\n",
       "      <th>Q2 Rev Growth</th>\n",
       "      <th>Q3 Rev Growth</th>\n",
       "      <th>Q1 Date</th>\n",
       "      <th>Q2 Date</th>\n",
       "      <th>Q3 Date</th>\n",
       "    </tr>\n",
       "  </thead>\n",
       "  <tbody>\n",
       "    <tr>\n",
       "      <th>0</th>\n",
       "      <td>DOCU</td>\n",
       "      <td></td>\n",
       "      <td></td>\n",
       "      <td></td>\n",
       "      <td></td>\n",
       "      <td></td>\n",
       "      <td></td>\n",
       "      <td></td>\n",
       "      <td></td>\n",
       "      <td></td>\n",
       "      <td></td>\n",
       "      <td></td>\n",
       "      <td></td>\n",
       "    </tr>\n",
       "    <tr>\n",
       "      <th>1</th>\n",
       "      <td>ZM</td>\n",
       "      <td></td>\n",
       "      <td></td>\n",
       "      <td></td>\n",
       "      <td></td>\n",
       "      <td></td>\n",
       "      <td></td>\n",
       "      <td></td>\n",
       "      <td></td>\n",
       "      <td></td>\n",
       "      <td></td>\n",
       "      <td></td>\n",
       "      <td></td>\n",
       "    </tr>\n",
       "    <tr>\n",
       "      <th>2</th>\n",
       "      <td>DXCM</td>\n",
       "      <td></td>\n",
       "      <td></td>\n",
       "      <td></td>\n",
       "      <td></td>\n",
       "      <td></td>\n",
       "      <td></td>\n",
       "      <td></td>\n",
       "      <td></td>\n",
       "      <td></td>\n",
       "      <td></td>\n",
       "      <td></td>\n",
       "      <td></td>\n",
       "    </tr>\n",
       "    <tr>\n",
       "      <th>3</th>\n",
       "      <td>SPLK</td>\n",
       "      <td></td>\n",
       "      <td></td>\n",
       "      <td></td>\n",
       "      <td></td>\n",
       "      <td></td>\n",
       "      <td></td>\n",
       "      <td></td>\n",
       "      <td></td>\n",
       "      <td></td>\n",
       "      <td></td>\n",
       "      <td></td>\n",
       "      <td></td>\n",
       "    </tr>\n",
       "    <tr>\n",
       "      <th>4</th>\n",
       "      <td>SGEN</td>\n",
       "      <td></td>\n",
       "      <td></td>\n",
       "      <td></td>\n",
       "      <td></td>\n",
       "      <td></td>\n",
       "      <td></td>\n",
       "      <td></td>\n",
       "      <td></td>\n",
       "      <td></td>\n",
       "      <td></td>\n",
       "      <td></td>\n",
       "      <td></td>\n",
       "    </tr>\n",
       "  </tbody>\n",
       "</table>\n",
       "</div>"
      ],
      "text/plain": [
       "  Company Q1 Op Income Growth Q2 Op Income Growth Q3 Op Income Growth  \\\n",
       "0    DOCU                                                               \n",
       "1      ZM                                                               \n",
       "2    DXCM                                                               \n",
       "3    SPLK                                                               \n",
       "4    SGEN                                                               \n",
       "\n",
       "  Q1 EPS Growth Q2 EPS Growth Q3 EPS Growth Q1 Rev Growth Q2 Rev Growth  \\\n",
       "0                                                                         \n",
       "1                                                                         \n",
       "2                                                                         \n",
       "3                                                                         \n",
       "4                                                                         \n",
       "\n",
       "  Q3 Rev Growth Q1 Date Q2 Date Q3 Date  \n",
       "0                                        \n",
       "1                                        \n",
       "2                                        \n",
       "3                                        \n",
       "4                                        "
      ]
     },
     "execution_count": 5,
     "metadata": {},
     "output_type": "execute_result"
    }
   ],
   "source": [
    "data = {'Company': company_tickers, 'Q1 Op Income Growth': ['' for i in range(len(company_tickers))], \n",
    "        'Q2 Op Income Growth': ['' for i in range(len(company_tickers))], \n",
    "        'Q3 Op Income Growth': ['' for i in range(len(company_tickers))], \n",
    "        'Q1 EPS Growth': ['' for i in range(len(company_tickers))], \n",
    "        'Q2 EPS Growth': ['' for i in range(len(company_tickers))], \n",
    "        'Q3 EPS Growth': ['' for i in range(len(company_tickers))], \n",
    "        'Q1 Rev Growth': ['' for i in range(len(company_tickers))],\n",
    "        'Q2 Rev Growth': ['' for i in range(len(company_tickers))],\n",
    "        'Q3 Rev Growth': ['' for i in range(len(company_tickers))],\n",
    "        'Q1 Date': ['' for i in range(len(company_tickers))],\n",
    "        'Q2 Date': ['' for i in range(len(company_tickers))],\n",
    "        'Q3 Date': ['' for i in range(len(company_tickers))],\n",
    "       }\n",
    "nasdaq_dg_df = pd.DataFrame(data=data)\n",
    "nasdaq_dg_df.head()"
   ]
  },
  {
   "cell_type": "code",
   "execution_count": null,
   "metadata": {},
   "outputs": [],
   "source": [
    "for index, row in nasdaq_dg_df.iterrows():\n",
    "    ticker = row['Company']\n",
    "    quarterly_ratio_url = f'https://financialmodelingprep.com/api/v3/financial-growth/{ticker}?period=quarter&limit=80&apikey={api_key}' \n",
    "    response = requests.get(quarterly_ratio_url).json()\n",
    "    try:\n",
    "        nasdaq_dg_df.loc[index, 'Q3 Op Income Growth'] = response[0]['operatingIncomeGrowth']\n",
    "        nasdaq_dg_df.loc[index, 'Q2 Op Income Growth'] = response[1]['operatingIncomeGrowth']\n",
    "        nasdaq_dg_df.loc[index, 'Q1 Op Income Growth'] = response[2]['operatingIncomeGrowth']\n",
    "        nasdaq_dg_df.loc[index, 'Q3 EPS Growth'] = response[0]['epsgrowth']\n",
    "        nasdaq_dg_df.loc[index, 'Q2 EPS Growth'] = response[1]['epsgrowth']\n",
    "        nasdaq_dg_df.loc[index, 'Q1 EPS Growth'] = response[2]['epsgrowth']\n",
    "        nasdaq_dg_df.loc[index, 'Q3 Rev Growth'] = response[0]['revenueGrowth']\n",
    "        nasdaq_dg_df.loc[index, 'Q2 Rev Growth'] = response[1]['revenueGrowth']\n",
    "        nasdaq_dg_df.loc[index, 'Q1 Rev Growth'] = response[2]['revenueGrowth']\n",
    "        nasdaq_dg_df.loc[index, 'Q3 Date'] = response[0]['date']\n",
    "        nasdaq_dg_df.loc[index, 'Q2 Date'] = response[1]['date']\n",
    "        nasdaq_dg_df.loc[index, 'Q1 Date'] = response[2]['date']\n",
    "    except IndexError:\n",
    "        print('Missing NASDAQ information')"
   ]
  },
  {
   "cell_type": "code",
   "execution_count": null,
   "metadata": {
    "scrolled": true
   },
   "outputs": [],
   "source": [
    "nasdaq_dg_df.head()"
   ]
  },
  {
   "cell_type": "code",
   "execution_count": null,
   "metadata": {},
   "outputs": [],
   "source": [
    "nasdaq_dg_df.to_csv(\"../output/nasdaq_financial_growth.csv\", index = False)"
   ]
  },
  {
   "cell_type": "code",
   "execution_count": null,
   "metadata": {},
   "outputs": [],
   "source": []
  }
 ],
 "metadata": {
  "kernelspec": {
   "display_name": "Python [conda env:pythondata] *",
   "language": "python",
   "name": "conda-env-pythondata-py"
  },
  "language_info": {
   "codemirror_mode": {
    "name": "ipython",
    "version": 3
   },
   "file_extension": ".py",
   "mimetype": "text/x-python",
   "name": "python",
   "nbconvert_exporter": "python",
   "pygments_lexer": "ipython3",
   "version": "3.6.12"
  }
 },
 "nbformat": 4,
 "nbformat_minor": 4
}
