{
 "cells": [
  {
   "cell_type": "code",
   "execution_count": 1,
   "metadata": {
    "scrolled": true
   },
   "outputs": [
    {
     "name": "stdout",
     "output_type": "stream",
     "text": [
      "Requirement already satisfied: dtale in /Users/jpot/opt/anaconda3/envs/pythondata/lib/python3.6/site-packages (1.19.2)\n",
      "Requirement already satisfied: scipy in /Users/jpot/opt/anaconda3/envs/pythondata/lib/python3.6/site-packages (from dtale) (1.5.2)\n",
      "Requirement already satisfied: flask-ngrok; python_version > \"3.0\" in /Users/jpot/opt/anaconda3/envs/pythondata/lib/python3.6/site-packages (from dtale) (0.0.25)\n",
      "Requirement already satisfied: lz4; python_version > \"3.0\" in /Users/jpot/opt/anaconda3/envs/pythondata/lib/python3.6/site-packages (from dtale) (3.1.0)\n",
      "Requirement already satisfied: future>=0.14.0 in /Users/jpot/opt/anaconda3/envs/pythondata/lib/python3.6/site-packages (from dtale) (0.18.2)\n",
      "Requirement already satisfied: Flask-Compress in /Users/jpot/opt/anaconda3/envs/pythondata/lib/python3.6/site-packages (from dtale) (1.7.0)\n",
      "Requirement already satisfied: Flask>=1.0 in /Users/jpot/opt/anaconda3/envs/pythondata/lib/python3.6/site-packages (from dtale) (1.1.2)\n",
      "Requirement already satisfied: six in /Users/jpot/opt/anaconda3/envs/pythondata/lib/python3.6/site-packages (from dtale) (1.15.0)\n",
      "Requirement already satisfied: requests in /Users/jpot/opt/anaconda3/envs/pythondata/lib/python3.6/site-packages (from dtale) (2.24.0)\n",
      "Requirement already satisfied: itsdangerous in /Users/jpot/opt/anaconda3/envs/pythondata/lib/python3.6/site-packages (from dtale) (1.1.0)\n",
      "Requirement already satisfied: xarray in /Users/jpot/opt/anaconda3/envs/pythondata/lib/python3.6/site-packages (from dtale) (0.16.1)\n",
      "Requirement already satisfied: dash-colorscales in /Users/jpot/opt/anaconda3/envs/pythondata/lib/python3.6/site-packages (from dtale) (0.0.4)\n",
      "Requirement already satisfied: squarify in /Users/jpot/opt/anaconda3/envs/pythondata/lib/python3.6/site-packages (from dtale) (0.4.3)\n",
      "Requirement already satisfied: scikit-learn>='0.21.0 in /Users/jpot/opt/anaconda3/envs/pythondata/lib/python3.6/site-packages (from dtale) (0.23.2)\n",
      "Requirement already satisfied: dash-daq in /Users/jpot/opt/anaconda3/envs/pythondata/lib/python3.6/site-packages (from dtale) (0.5.0)\n",
      "Requirement already satisfied: dash-bootstrap-components; python_version > \"3.0\" in /Users/jpot/opt/anaconda3/envs/pythondata/lib/python3.6/site-packages (from dtale) (0.10.7)\n",
      "Requirement already satisfied: statsmodels in /Users/jpot/opt/anaconda3/envs/pythondata/lib/python3.6/site-packages (from dtale) (0.12.0)\n",
      "Requirement already satisfied: pandas in /Users/jpot/opt/anaconda3/envs/pythondata/lib/python3.6/site-packages (from dtale) (1.1.1)\n",
      "Requirement already satisfied: strsimpy in /Users/jpot/opt/anaconda3/envs/pythondata/lib/python3.6/site-packages (from dtale) (0.1.9)\n",
      "Requirement already satisfied: dash>=1.5.0 in /Users/jpot/opt/anaconda3/envs/pythondata/lib/python3.6/site-packages (from dtale) (1.16.3)\n",
      "Requirement already satisfied: numpy>=1.14.5 in /Users/jpot/opt/anaconda3/envs/pythondata/lib/python3.6/site-packages (from scipy->dtale) (1.19.1)\n",
      "Requirement already satisfied: brotli in /Users/jpot/opt/anaconda3/envs/pythondata/lib/python3.6/site-packages (from Flask-Compress->dtale) (1.0.9)\n",
      "Requirement already satisfied: Werkzeug>=0.15 in /Users/jpot/opt/anaconda3/envs/pythondata/lib/python3.6/site-packages (from Flask>=1.0->dtale) (1.0.1)\n",
      "Requirement already satisfied: Jinja2>=2.10.1 in /Users/jpot/opt/anaconda3/envs/pythondata/lib/python3.6/site-packages (from Flask>=1.0->dtale) (2.11.2)\n",
      "Requirement already satisfied: click>=5.1 in /Users/jpot/opt/anaconda3/envs/pythondata/lib/python3.6/site-packages (from Flask>=1.0->dtale) (7.1.2)\n",
      "Requirement already satisfied: idna<3,>=2.5 in /Users/jpot/opt/anaconda3/envs/pythondata/lib/python3.6/site-packages (from requests->dtale) (2.10)\n",
      "Requirement already satisfied: chardet<4,>=3.0.2 in /Users/jpot/opt/anaconda3/envs/pythondata/lib/python3.6/site-packages (from requests->dtale) (3.0.4)\n",
      "Requirement already satisfied: certifi>=2017.4.17 in /Users/jpot/opt/anaconda3/envs/pythondata/lib/python3.6/site-packages (from requests->dtale) (2020.6.20)\n",
      "Requirement already satisfied: urllib3!=1.25.0,!=1.25.1,<1.26,>=1.21.1 in /Users/jpot/opt/anaconda3/envs/pythondata/lib/python3.6/site-packages (from requests->dtale) (1.25.10)\n",
      "Requirement already satisfied: setuptools>=38.4 in /Users/jpot/opt/anaconda3/envs/pythondata/lib/python3.6/site-packages (from xarray->dtale) (49.6.0.post20200814)\n",
      "Requirement already satisfied: threadpoolctl>=2.0.0 in /Users/jpot/opt/anaconda3/envs/pythondata/lib/python3.6/site-packages (from scikit-learn>='0.21.0->dtale) (2.1.0)\n",
      "Requirement already satisfied: joblib>=0.11 in /Users/jpot/opt/anaconda3/envs/pythondata/lib/python3.6/site-packages (from scikit-learn>='0.21.0->dtale) (0.17.0)\n",
      "Requirement already satisfied: patsy>=0.5 in /Users/jpot/opt/anaconda3/envs/pythondata/lib/python3.6/site-packages (from statsmodels->dtale) (0.5.1)\n",
      "Requirement already satisfied: python-dateutil>=2.7.3 in /Users/jpot/opt/anaconda3/envs/pythondata/lib/python3.6/site-packages (from pandas->dtale) (2.8.1)\n",
      "Requirement already satisfied: pytz>=2017.2 in /Users/jpot/opt/anaconda3/envs/pythondata/lib/python3.6/site-packages (from pandas->dtale) (2020.1)\n",
      "Requirement already satisfied: dash-core-components==1.12.1 in /Users/jpot/opt/anaconda3/envs/pythondata/lib/python3.6/site-packages (from dash>=1.5.0->dtale) (1.12.1)\n",
      "Requirement already satisfied: plotly in /Users/jpot/opt/anaconda3/envs/pythondata/lib/python3.6/site-packages (from dash>=1.5.0->dtale) (4.12.0)\n",
      "Requirement already satisfied: dash-renderer==1.8.2 in /Users/jpot/opt/anaconda3/envs/pythondata/lib/python3.6/site-packages (from dash>=1.5.0->dtale) (1.8.2)\n",
      "Requirement already satisfied: dash-table==4.10.1 in /Users/jpot/opt/anaconda3/envs/pythondata/lib/python3.6/site-packages (from dash>=1.5.0->dtale) (4.10.1)\n",
      "Requirement already satisfied: dash-html-components==1.1.1 in /Users/jpot/opt/anaconda3/envs/pythondata/lib/python3.6/site-packages (from dash>=1.5.0->dtale) (1.1.1)\n",
      "Requirement already satisfied: MarkupSafe>=0.23 in /Users/jpot/opt/anaconda3/envs/pythondata/lib/python3.6/site-packages (from Jinja2>=2.10.1->Flask>=1.0->dtale) (1.1.1)\n",
      "Requirement already satisfied: retrying>=1.3.3 in /Users/jpot/opt/anaconda3/envs/pythondata/lib/python3.6/site-packages (from plotly->dash>=1.5.0->dtale) (1.3.3)\n",
      "\u001b[33mWARNING: You are using pip version 20.2.3; however, version 20.2.4 is available.\n",
      "You should consider upgrading via the '/Users/jpot/opt/anaconda3/envs/pythondata/bin/python -m pip install --upgrade pip' command.\u001b[0m\n",
      "Note: you may need to restart the kernel to use updated packages.\n"
     ]
    }
   ],
   "source": [
    "pip install dtale"
   ]
  },
  {
   "cell_type": "code",
   "execution_count": null,
   "metadata": {},
   "outputs": [],
   "source": []
  },
  {
   "cell_type": "markdown",
   "metadata": {},
   "source": [
    "# NASDAQ Analysis"
   ]
  },
  {
   "cell_type": "code",
   "execution_count": null,
   "metadata": {},
   "outputs": [],
   "source": []
  },
  {
   "cell_type": "code",
   "execution_count": null,
   "metadata": {},
   "outputs": [],
   "source": []
  },
  {
   "cell_type": "code",
   "execution_count": null,
   "metadata": {},
   "outputs": [],
   "source": []
  },
  {
   "cell_type": "code",
   "execution_count": null,
   "metadata": {},
   "outputs": [],
   "source": []
  },
  {
   "cell_type": "code",
   "execution_count": null,
   "metadata": {},
   "outputs": [],
   "source": []
  },
  {
   "cell_type": "code",
   "execution_count": null,
   "metadata": {},
   "outputs": [],
   "source": []
  },
  {
   "cell_type": "code",
   "execution_count": null,
   "metadata": {},
   "outputs": [],
   "source": []
  },
  {
   "cell_type": "code",
   "execution_count": null,
   "metadata": {},
   "outputs": [],
   "source": []
  },
  {
   "cell_type": "code",
   "execution_count": null,
   "metadata": {},
   "outputs": [],
   "source": []
  }
 ],
 "metadata": {
  "kernelspec": {
   "display_name": "Python [conda env:pythondata] *",
   "language": "python",
   "name": "conda-env-pythondata-py"
  },
  "language_info": {
   "codemirror_mode": {
    "name": "ipython",
    "version": 3
   },
   "file_extension": ".py",
   "mimetype": "text/x-python",
   "name": "python",
   "nbconvert_exporter": "python",
   "pygments_lexer": "ipython3",
   "version": "3.6.12"
  }
 },
 "nbformat": 4,
 "nbformat_minor": 4
}
