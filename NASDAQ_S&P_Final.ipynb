{
 "cells": [
  {
   "cell_type": "code",
   "execution_count": 1,
   "metadata": {
    "scrolled": true
   },
   "outputs": [
    {
     "name": "stdout",
     "output_type": "stream",
     "text": [
      "Requirement already satisfied: dtale in /Users/jackieyi/opt/anaconda3/lib/python3.8/site-packages (1.19.0)\n",
      "Requirement already satisfied: Flask>=1.0 in /Users/jackieyi/opt/anaconda3/lib/python3.8/site-packages (from dtale) (1.1.2)\n",
      "Requirement already satisfied: strsimpy in /Users/jackieyi/opt/anaconda3/lib/python3.8/site-packages (from dtale) (0.1.9)\n",
      "Requirement already satisfied: dash>=1.5.0 in /Users/jackieyi/opt/anaconda3/lib/python3.8/site-packages (from dtale) (1.16.3)\n",
      "Requirement already satisfied: statsmodels in /Users/jackieyi/opt/anaconda3/lib/python3.8/site-packages (from dtale) (0.11.1)\n",
      "Requirement already satisfied: itsdangerous in /Users/jackieyi/opt/anaconda3/lib/python3.8/site-packages (from dtale) (1.1.0)\n",
      "Requirement already satisfied: pandas in /Users/jackieyi/opt/anaconda3/lib/python3.8/site-packages (from dtale) (1.0.5)\n",
      "Requirement already satisfied: requests in /Users/jackieyi/opt/anaconda3/lib/python3.8/site-packages (from dtale) (2.24.0)\n",
      "Requirement already satisfied: scikit-learn>='0.21.0 in /Users/jackieyi/opt/anaconda3/lib/python3.8/site-packages (from dtale) (0.23.1)\n",
      "Requirement already satisfied: flask-ngrok; python_version > \"3.0\" in /Users/jackieyi/opt/anaconda3/lib/python3.8/site-packages (from dtale) (0.0.25)\n",
      "Requirement already satisfied: dash-colorscales in /Users/jackieyi/opt/anaconda3/lib/python3.8/site-packages (from dtale) (0.0.4)\n",
      "Requirement already satisfied: dash-bootstrap-components; python_version > \"3.0\" in /Users/jackieyi/opt/anaconda3/lib/python3.8/site-packages (from dtale) (0.10.7)\n",
      "Requirement already satisfied: squarify in /Users/jackieyi/opt/anaconda3/lib/python3.8/site-packages (from dtale) (0.4.3)\n",
      "Requirement already satisfied: xarray in /Users/jackieyi/opt/anaconda3/lib/python3.8/site-packages (from dtale) (0.16.1)\n",
      "Requirement already satisfied: scipy in /Users/jackieyi/opt/anaconda3/lib/python3.8/site-packages (from dtale) (1.5.0)\n",
      "Requirement already satisfied: Flask-Compress in /Users/jackieyi/opt/anaconda3/lib/python3.8/site-packages (from dtale) (1.7.0)\n",
      "Requirement already satisfied: lz4; python_version > \"3.0\" in /Users/jackieyi/opt/anaconda3/lib/python3.8/site-packages (from dtale) (3.1.0)\n",
      "Requirement already satisfied: six in /Users/jackieyi/opt/anaconda3/lib/python3.8/site-packages (from dtale) (1.15.0)\n",
      "Requirement already satisfied: dash-daq in /Users/jackieyi/opt/anaconda3/lib/python3.8/site-packages (from dtale) (0.5.0)\n",
      "Requirement already satisfied: future>=0.14.0 in /Users/jackieyi/opt/anaconda3/lib/python3.8/site-packages (from dtale) (0.18.2)\n",
      "Requirement already satisfied: Werkzeug>=0.15 in /Users/jackieyi/opt/anaconda3/lib/python3.8/site-packages (from Flask>=1.0->dtale) (1.0.1)\n",
      "Requirement already satisfied: click>=5.1 in /Users/jackieyi/opt/anaconda3/lib/python3.8/site-packages (from Flask>=1.0->dtale) (7.1.2)\n",
      "Requirement already satisfied: Jinja2>=2.10.1 in /Users/jackieyi/opt/anaconda3/lib/python3.8/site-packages (from Flask>=1.0->dtale) (2.11.2)\n",
      "Requirement already satisfied: dash-core-components==1.12.1 in /Users/jackieyi/opt/anaconda3/lib/python3.8/site-packages (from dash>=1.5.0->dtale) (1.12.1)\n",
      "Requirement already satisfied: plotly in /Users/jackieyi/opt/anaconda3/lib/python3.8/site-packages (from dash>=1.5.0->dtale) (4.12.0)\n",
      "Requirement already satisfied: dash-renderer==1.8.2 in /Users/jackieyi/opt/anaconda3/lib/python3.8/site-packages (from dash>=1.5.0->dtale) (1.8.2)\n",
      "Requirement already satisfied: dash-html-components==1.1.1 in /Users/jackieyi/opt/anaconda3/lib/python3.8/site-packages (from dash>=1.5.0->dtale) (1.1.1)\n",
      "Requirement already satisfied: dash-table==4.10.1 in /Users/jackieyi/opt/anaconda3/lib/python3.8/site-packages (from dash>=1.5.0->dtale) (4.10.1)\n",
      "Requirement already satisfied: patsy>=0.5 in /Users/jackieyi/opt/anaconda3/lib/python3.8/site-packages (from statsmodels->dtale) (0.5.1)\n",
      "Requirement already satisfied: numpy>=1.14 in /Users/jackieyi/opt/anaconda3/lib/python3.8/site-packages (from statsmodels->dtale) (1.18.5)\n",
      "Requirement already satisfied: python-dateutil>=2.6.1 in /Users/jackieyi/opt/anaconda3/lib/python3.8/site-packages (from pandas->dtale) (2.8.1)\n",
      "Requirement already satisfied: pytz>=2017.2 in /Users/jackieyi/opt/anaconda3/lib/python3.8/site-packages (from pandas->dtale) (2020.1)\n",
      "Requirement already satisfied: certifi>=2017.4.17 in /Users/jackieyi/opt/anaconda3/lib/python3.8/site-packages (from requests->dtale) (2020.6.20)\n",
      "Requirement already satisfied: idna<3,>=2.5 in /Users/jackieyi/opt/anaconda3/lib/python3.8/site-packages (from requests->dtale) (2.10)\n",
      "Requirement already satisfied: urllib3!=1.25.0,!=1.25.1,<1.26,>=1.21.1 in /Users/jackieyi/opt/anaconda3/lib/python3.8/site-packages (from requests->dtale) (1.25.9)\n",
      "Requirement already satisfied: chardet<4,>=3.0.2 in /Users/jackieyi/opt/anaconda3/lib/python3.8/site-packages (from requests->dtale) (3.0.4)\n",
      "Requirement already satisfied: joblib>=0.11 in /Users/jackieyi/opt/anaconda3/lib/python3.8/site-packages (from scikit-learn>='0.21.0->dtale) (0.16.0)\n",
      "Requirement already satisfied: threadpoolctl>=2.0.0 in /Users/jackieyi/opt/anaconda3/lib/python3.8/site-packages (from scikit-learn>='0.21.0->dtale) (2.1.0)\n",
      "Requirement already satisfied: setuptools>=38.4 in /Users/jackieyi/opt/anaconda3/lib/python3.8/site-packages (from xarray->dtale) (49.2.0.post20200714)\n",
      "Requirement already satisfied: brotli in /Users/jackieyi/opt/anaconda3/lib/python3.8/site-packages (from Flask-Compress->dtale) (1.0.9)\n",
      "Requirement already satisfied: MarkupSafe>=0.23 in /Users/jackieyi/opt/anaconda3/lib/python3.8/site-packages (from Jinja2>=2.10.1->Flask>=1.0->dtale) (1.1.1)\n",
      "Requirement already satisfied: retrying>=1.3.3 in /Users/jackieyi/opt/anaconda3/lib/python3.8/site-packages (from plotly->dash>=1.5.0->dtale) (1.3.3)\n",
      "Note: you may need to restart the kernel to use updated packages.\n"
     ]
    }
   ],
   "source": [
    "pip install dtale"
   ]
  },
  {
   "cell_type": "code",
   "execution_count": 2,
   "metadata": {},
   "outputs": [],
   "source": [
    "import pandas as pd\n",
    "import matplotlib.pyplot as plt\n",
    "import numpy as np\n",
    "import os\n",
    "import dtale\n",
    "from scipy.stats import linregress\n",
    "from scipy import stats\n",
    "from matplotlib.pyplot import figure"
   ]
  },
  {
   "cell_type": "markdown",
   "metadata": {},
   "source": [
    "# NASDAQ Analysis"
   ]
  },
  {
   "cell_type": "code",
   "execution_count": 3,
   "metadata": {},
   "outputs": [
    {
     "data": {
      "text/html": [
       "<div>\n",
       "<style scoped>\n",
       "    .dataframe tbody tr th:only-of-type {\n",
       "        vertical-align: middle;\n",
       "    }\n",
       "\n",
       "    .dataframe tbody tr th {\n",
       "        vertical-align: top;\n",
       "    }\n",
       "\n",
       "    .dataframe thead th {\n",
       "        text-align: right;\n",
       "    }\n",
       "</style>\n",
       "<table border=\"1\" class=\"dataframe\">\n",
       "  <thead>\n",
       "    <tr style=\"text-align: right;\">\n",
       "      <th></th>\n",
       "      <th>Company</th>\n",
       "      <th>Q1 Date</th>\n",
       "      <th>Q1 Price</th>\n",
       "      <th>Q2 Date</th>\n",
       "      <th>Q2 Price</th>\n",
       "      <th>Q3 Date</th>\n",
       "      <th>Q3 Price</th>\n",
       "    </tr>\n",
       "  </thead>\n",
       "  <tbody>\n",
       "    <tr>\n",
       "      <th>0</th>\n",
       "      <td>DOCU</td>\n",
       "      <td>2020-01-31</td>\n",
       "      <td>78.5100</td>\n",
       "      <td>2020-04-30</td>\n",
       "      <td>104.7500</td>\n",
       "      <td>2020-07-31</td>\n",
       "      <td>216.830000</td>\n",
       "    </tr>\n",
       "    <tr>\n",
       "      <th>1</th>\n",
       "      <td>ZM</td>\n",
       "      <td>2020-01-31</td>\n",
       "      <td>76.3000</td>\n",
       "      <td>2020-04-30</td>\n",
       "      <td>135.1700</td>\n",
       "      <td>2020-07-31</td>\n",
       "      <td>253.910000</td>\n",
       "    </tr>\n",
       "    <tr>\n",
       "      <th>2</th>\n",
       "      <td>DXCM</td>\n",
       "      <td>2019-12-31</td>\n",
       "      <td>218.7400</td>\n",
       "      <td>2020-03-31</td>\n",
       "      <td>269.2700</td>\n",
       "      <td>2020-06-30</td>\n",
       "      <td>405.400000</td>\n",
       "    </tr>\n",
       "    <tr>\n",
       "      <th>3</th>\n",
       "      <td>SPLK</td>\n",
       "      <td>2020-01-31</td>\n",
       "      <td>155.2600</td>\n",
       "      <td>2020-04-30</td>\n",
       "      <td>140.3600</td>\n",
       "      <td>2020-07-31</td>\n",
       "      <td>209.820000</td>\n",
       "    </tr>\n",
       "    <tr>\n",
       "      <th>4</th>\n",
       "      <td>SGEN</td>\n",
       "      <td>2019-12-31</td>\n",
       "      <td>114.2600</td>\n",
       "      <td>2020-03-31</td>\n",
       "      <td>115.3800</td>\n",
       "      <td>2020-06-30</td>\n",
       "      <td>169.920000</td>\n",
       "    </tr>\n",
       "    <tr>\n",
       "      <th>...</th>\n",
       "      <td>...</td>\n",
       "      <td>...</td>\n",
       "      <td>...</td>\n",
       "      <td>...</td>\n",
       "      <td>...</td>\n",
       "      <td>...</td>\n",
       "      <td>...</td>\n",
       "    </tr>\n",
       "    <tr>\n",
       "      <th>98</th>\n",
       "      <td>NVDA</td>\n",
       "      <td>2020-01-26</td>\n",
       "      <td>NaN</td>\n",
       "      <td>2020-04-26</td>\n",
       "      <td>NaN</td>\n",
       "      <td>2020-07-26</td>\n",
       "      <td>NaN</td>\n",
       "    </tr>\n",
       "    <tr>\n",
       "      <th>99</th>\n",
       "      <td>PAYX</td>\n",
       "      <td>2020-02-29</td>\n",
       "      <td>NaN</td>\n",
       "      <td>2020-05-31</td>\n",
       "      <td>NaN</td>\n",
       "      <td>2020-08-31</td>\n",
       "      <td>76.470001</td>\n",
       "    </tr>\n",
       "    <tr>\n",
       "      <th>100</th>\n",
       "      <td>KLAC</td>\n",
       "      <td>2019-12-31</td>\n",
       "      <td>175.6855</td>\n",
       "      <td>2020-03-31</td>\n",
       "      <td>142.4356</td>\n",
       "      <td>2020-06-30</td>\n",
       "      <td>193.646300</td>\n",
       "    </tr>\n",
       "    <tr>\n",
       "      <th>101</th>\n",
       "      <td>CSCO</td>\n",
       "      <td>2020-01-25</td>\n",
       "      <td>NaN</td>\n",
       "      <td>2020-04-25</td>\n",
       "      <td>NaN</td>\n",
       "      <td>2020-07-25</td>\n",
       "      <td>NaN</td>\n",
       "    </tr>\n",
       "    <tr>\n",
       "      <th>102</th>\n",
       "      <td>ADSK</td>\n",
       "      <td>2020-01-31</td>\n",
       "      <td>196.8500</td>\n",
       "      <td>2020-04-30</td>\n",
       "      <td>187.1300</td>\n",
       "      <td>2020-07-31</td>\n",
       "      <td>236.430000</td>\n",
       "    </tr>\n",
       "  </tbody>\n",
       "</table>\n",
       "<p>103 rows × 7 columns</p>\n",
       "</div>"
      ],
      "text/plain": [
       "    Company     Q1 Date  Q1 Price     Q2 Date  Q2 Price     Q3 Date  \\\n",
       "0      DOCU  2020-01-31   78.5100  2020-04-30  104.7500  2020-07-31   \n",
       "1        ZM  2020-01-31   76.3000  2020-04-30  135.1700  2020-07-31   \n",
       "2      DXCM  2019-12-31  218.7400  2020-03-31  269.2700  2020-06-30   \n",
       "3      SPLK  2020-01-31  155.2600  2020-04-30  140.3600  2020-07-31   \n",
       "4      SGEN  2019-12-31  114.2600  2020-03-31  115.3800  2020-06-30   \n",
       "..      ...         ...       ...         ...       ...         ...   \n",
       "98     NVDA  2020-01-26       NaN  2020-04-26       NaN  2020-07-26   \n",
       "99     PAYX  2020-02-29       NaN  2020-05-31       NaN  2020-08-31   \n",
       "100    KLAC  2019-12-31  175.6855  2020-03-31  142.4356  2020-06-30   \n",
       "101    CSCO  2020-01-25       NaN  2020-04-25       NaN  2020-07-25   \n",
       "102    ADSK  2020-01-31  196.8500  2020-04-30  187.1300  2020-07-31   \n",
       "\n",
       "       Q3 Price  \n",
       "0    216.830000  \n",
       "1    253.910000  \n",
       "2    405.400000  \n",
       "3    209.820000  \n",
       "4    169.920000  \n",
       "..          ...  \n",
       "98          NaN  \n",
       "99    76.470001  \n",
       "100  193.646300  \n",
       "101         NaN  \n",
       "102  236.430000  \n",
       "\n",
       "[103 rows x 7 columns]"
      ]
     },
     "execution_count": 3,
     "metadata": {},
     "output_type": "execute_result"
    }
   ],
   "source": [
    "base = 'output/'\n",
    "\n",
    "historical_prices_df = pd.read_csv(base + 'nasdaq_historical_prices.csv')\n",
    "historical_prices_df = historical_prices_df.drop(columns='Unnamed: 0')\n",
    "historical_prices_df"
   ]
  },
  {
   "cell_type": "code",
   "execution_count": 4,
   "metadata": {},
   "outputs": [
    {
     "data": {
      "text/html": [
       "<div>\n",
       "<style scoped>\n",
       "    .dataframe tbody tr th:only-of-type {\n",
       "        vertical-align: middle;\n",
       "    }\n",
       "\n",
       "    .dataframe tbody tr th {\n",
       "        vertical-align: top;\n",
       "    }\n",
       "\n",
       "    .dataframe thead th {\n",
       "        text-align: right;\n",
       "    }\n",
       "</style>\n",
       "<table border=\"1\" class=\"dataframe\">\n",
       "  <thead>\n",
       "    <tr style=\"text-align: right;\">\n",
       "      <th></th>\n",
       "      <th>Company</th>\n",
       "      <th>Q1 P/E</th>\n",
       "      <th>Q2 P/E</th>\n",
       "      <th>Q3 P/E</th>\n",
       "      <th>Q1 ROE</th>\n",
       "      <th>Q2 ROE</th>\n",
       "      <th>Q3 ROE</th>\n",
       "      <th>Q1 Date</th>\n",
       "      <th>Q2 Date</th>\n",
       "      <th>Q3 Date</th>\n",
       "    </tr>\n",
       "  </thead>\n",
       "  <tbody>\n",
       "    <tr>\n",
       "      <th>0</th>\n",
       "      <td>DOCU</td>\n",
       "      <td>-299.597287</td>\n",
       "      <td>-400.948571</td>\n",
       "      <td>-620.874031</td>\n",
       "      <td>-0.086774</td>\n",
       "      <td>-0.091441</td>\n",
       "      <td>-0.128634</td>\n",
       "      <td>2020-01-31</td>\n",
       "      <td>2020-04-30</td>\n",
       "      <td>2020-07-31</td>\n",
       "    </tr>\n",
       "    <tr>\n",
       "      <th>1</th>\n",
       "      <td>ZM</td>\n",
       "      <td>1191.100353</td>\n",
       "      <td>1473.689789</td>\n",
       "      <td>405.682498</td>\n",
       "      <td>0.018393</td>\n",
       "      <td>0.030029</td>\n",
       "      <td>0.155144</td>\n",
       "      <td>2020-01-31</td>\n",
       "      <td>2020-04-30</td>\n",
       "      <td>2020-07-31</td>\n",
       "    </tr>\n",
       "    <tr>\n",
       "      <th>2</th>\n",
       "      <td>DXCM</td>\n",
       "      <td>218.504035</td>\n",
       "      <td>1273.281759</td>\n",
       "      <td>849.326134</td>\n",
       "      <td>0.105031</td>\n",
       "      <td>0.021295</td>\n",
       "      <td>0.034198</td>\n",
       "      <td>2019-12-31</td>\n",
       "      <td>2020-03-31</td>\n",
       "      <td>2020-06-30</td>\n",
       "    </tr>\n",
       "    <tr>\n",
       "      <th>3</th>\n",
       "      <td>SPLK</td>\n",
       "      <td>-1064.434087</td>\n",
       "      <td>-72.359266</td>\n",
       "      <td>-127.625338</td>\n",
       "      <td>-0.011367</td>\n",
       "      <td>-0.168823</td>\n",
       "      <td>-0.156529</td>\n",
       "      <td>2020-01-31</td>\n",
       "      <td>2020-04-30</td>\n",
       "      <td>2020-07-31</td>\n",
       "    </tr>\n",
       "    <tr>\n",
       "      <th>4</th>\n",
       "      <td>SGEN</td>\n",
       "      <td>759.556952</td>\n",
       "      <td>-118.084957</td>\n",
       "      <td>-1390.521355</td>\n",
       "      <td>0.013767</td>\n",
       "      <td>-0.095379</td>\n",
       "      <td>-0.011681</td>\n",
       "      <td>2019-12-31</td>\n",
       "      <td>2020-03-31</td>\n",
       "      <td>2020-06-30</td>\n",
       "    </tr>\n",
       "    <tr>\n",
       "      <th>...</th>\n",
       "      <td>...</td>\n",
       "      <td>...</td>\n",
       "      <td>...</td>\n",
       "      <td>...</td>\n",
       "      <td>...</td>\n",
       "      <td>...</td>\n",
       "      <td>...</td>\n",
       "      <td>...</td>\n",
       "      <td>...</td>\n",
       "      <td>...</td>\n",
       "    </tr>\n",
       "    <tr>\n",
       "      <th>98</th>\n",
       "      <td>NVDA</td>\n",
       "      <td>156.637749</td>\n",
       "      <td>201.356865</td>\n",
       "      <td>419.415270</td>\n",
       "      <td>0.077925</td>\n",
       "      <td>0.070005</td>\n",
       "      <td>0.044703</td>\n",
       "      <td>2020-01-26</td>\n",
       "      <td>2020-04-26</td>\n",
       "      <td>2020-07-26</td>\n",
       "    </tr>\n",
       "    <tr>\n",
       "      <th>99</th>\n",
       "      <td>PAYX</td>\n",
       "      <td>77.441170</td>\n",
       "      <td>116.583405</td>\n",
       "      <td>130.569997</td>\n",
       "      <td>0.128451</td>\n",
       "      <td>0.079349</td>\n",
       "      <td>0.076153</td>\n",
       "      <td>2020-02-29</td>\n",
       "      <td>2020-05-31</td>\n",
       "      <td>2020-08-31</td>\n",
       "    </tr>\n",
       "    <tr>\n",
       "      <th>100</th>\n",
       "      <td>KLAC</td>\n",
       "      <td>73.227875</td>\n",
       "      <td>285.357774</td>\n",
       "      <td>73.578936</td>\n",
       "      <td>0.142543</td>\n",
       "      <td>0.034000</td>\n",
       "      <td>0.154292</td>\n",
       "      <td>2019-12-31</td>\n",
       "      <td>2020-03-31</td>\n",
       "      <td>2020-06-30</td>\n",
       "    </tr>\n",
       "    <tr>\n",
       "      <th>101</th>\n",
       "      <td>CSCO</td>\n",
       "      <td>71.068582</td>\n",
       "      <td>64.528627</td>\n",
       "      <td>74.669499</td>\n",
       "      <td>0.080995</td>\n",
       "      <td>0.077686</td>\n",
       "      <td>0.069515</td>\n",
       "      <td>2020-01-25</td>\n",
       "      <td>2020-04-25</td>\n",
       "      <td>2020-07-25</td>\n",
       "    </tr>\n",
       "    <tr>\n",
       "      <th>102</th>\n",
       "      <td>ADSK</td>\n",
       "      <td>334.107322</td>\n",
       "      <td>622.734872</td>\n",
       "      <td>534.977047</td>\n",
       "      <td>-0.947520</td>\n",
       "      <td>-0.478073</td>\n",
       "      <td>1.459138</td>\n",
       "      <td>2020-01-31</td>\n",
       "      <td>2020-04-30</td>\n",
       "      <td>2020-07-31</td>\n",
       "    </tr>\n",
       "  </tbody>\n",
       "</table>\n",
       "<p>103 rows × 10 columns</p>\n",
       "</div>"
      ],
      "text/plain": [
       "    Company       Q1 P/E       Q2 P/E       Q3 P/E    Q1 ROE    Q2 ROE  \\\n",
       "0      DOCU  -299.597287  -400.948571  -620.874031 -0.086774 -0.091441   \n",
       "1        ZM  1191.100353  1473.689789   405.682498  0.018393  0.030029   \n",
       "2      DXCM   218.504035  1273.281759   849.326134  0.105031  0.021295   \n",
       "3      SPLK -1064.434087   -72.359266  -127.625338 -0.011367 -0.168823   \n",
       "4      SGEN   759.556952  -118.084957 -1390.521355  0.013767 -0.095379   \n",
       "..      ...          ...          ...          ...       ...       ...   \n",
       "98     NVDA   156.637749   201.356865   419.415270  0.077925  0.070005   \n",
       "99     PAYX    77.441170   116.583405   130.569997  0.128451  0.079349   \n",
       "100    KLAC    73.227875   285.357774    73.578936  0.142543  0.034000   \n",
       "101    CSCO    71.068582    64.528627    74.669499  0.080995  0.077686   \n",
       "102    ADSK   334.107322   622.734872   534.977047 -0.947520 -0.478073   \n",
       "\n",
       "       Q3 ROE     Q1 Date     Q2 Date     Q3 Date  \n",
       "0   -0.128634  2020-01-31  2020-04-30  2020-07-31  \n",
       "1    0.155144  2020-01-31  2020-04-30  2020-07-31  \n",
       "2    0.034198  2019-12-31  2020-03-31  2020-06-30  \n",
       "3   -0.156529  2020-01-31  2020-04-30  2020-07-31  \n",
       "4   -0.011681  2019-12-31  2020-03-31  2020-06-30  \n",
       "..        ...         ...         ...         ...  \n",
       "98   0.044703  2020-01-26  2020-04-26  2020-07-26  \n",
       "99   0.076153  2020-02-29  2020-05-31  2020-08-31  \n",
       "100  0.154292  2019-12-31  2020-03-31  2020-06-30  \n",
       "101  0.069515  2020-01-25  2020-04-25  2020-07-25  \n",
       "102  1.459138  2020-01-31  2020-04-30  2020-07-31  \n",
       "\n",
       "[103 rows x 10 columns]"
      ]
     },
     "execution_count": 4,
     "metadata": {},
     "output_type": "execute_result"
    }
   ],
   "source": [
    "financial_ratios_df = pd.read_csv(base + 'nasdaq_financial_ratios.csv')\n",
    "financial_ratios_df = financial_ratios_df.drop(columns='Unnamed: 0')\n",
    "financial_ratios_df"
   ]
  },
  {
   "cell_type": "code",
   "execution_count": 5,
   "metadata": {},
   "outputs": [
    {
     "data": {
      "text/html": [
       "\n",
       "        <iframe\n",
       "            width=\"100%\"\n",
       "            height=\"475\"\n",
       "            src=\"http://Jackies-MBP:40000/dtale/iframe/1\"\n",
       "            frameborder=\"0\"\n",
       "            allowfullscreen\n",
       "        ></iframe>\n",
       "        "
      ],
      "text/plain": [
       "<IPython.lib.display.IFrame at 0x7f9a5947a190>"
      ]
     },
     "metadata": {},
     "output_type": "display_data"
    },
    {
     "data": {
      "text/plain": []
     },
     "execution_count": 5,
     "metadata": {},
     "output_type": "execute_result"
    }
   ],
   "source": [
    "financial_growth_df = pd.read_csv(base + 'nasdaq_financial_growth.csv')\n",
    "dtale.show(financial_growth_df, ignore_duplicate=True)"
   ]
  },
  {
   "cell_type": "code",
   "execution_count": 6,
   "metadata": {},
   "outputs": [
    {
     "data": {
      "text/html": [
       "\n",
       "        <iframe\n",
       "            width=\"100%\"\n",
       "            height=\"475\"\n",
       "            src=\"http://Jackies-MBP:40000/dtale/iframe/2\"\n",
       "            frameborder=\"0\"\n",
       "            allowfullscreen\n",
       "        ></iframe>\n",
       "        "
      ],
      "text/plain": [
       "<IPython.lib.display.IFrame at 0x7f9a5959aca0>"
      ]
     },
     "metadata": {},
     "output_type": "display_data"
    },
    {
     "data": {
      "text/plain": []
     },
     "execution_count": 6,
     "metadata": {},
     "output_type": "execute_result"
    }
   ],
   "source": [
    "nasdaq_df = historical_prices_df.merge(financial_ratios_df, how='outer', on=['Company', 'Q1 Date', 'Q2 Date', 'Q3 Date'])\n",
    "\n",
    "dtale.show(nasdaq_df, ignore_duplicate=True)"
   ]
  },
  {
   "cell_type": "code",
   "execution_count": 7,
   "metadata": {},
   "outputs": [],
   "source": [
    "clean_nasdaq_df = nasdaq_df.merge(financial_growth_df, how='outer', on=['Company', 'Q1 Date', 'Q2 Date', 'Q3 Date'])"
   ]
  },
  {
   "cell_type": "code",
   "execution_count": 8,
   "metadata": {},
   "outputs": [
    {
     "data": {
      "text/html": [
       "\n",
       "        <iframe\n",
       "            width=\"100%\"\n",
       "            height=\"475\"\n",
       "            src=\"http://Jackies-MBP:40000/dtale/iframe/3\"\n",
       "            frameborder=\"0\"\n",
       "            allowfullscreen\n",
       "        ></iframe>\n",
       "        "
      ],
      "text/plain": [
       "<IPython.lib.display.IFrame at 0x7f9a59604c70>"
      ]
     },
     "metadata": {},
     "output_type": "display_data"
    },
    {
     "data": {
      "text/plain": []
     },
     "execution_count": 8,
     "metadata": {},
     "output_type": "execute_result"
    }
   ],
   "source": [
    "# remove [SIRI BIDU INTC TCOM] from df\n",
    "\n",
    "clean_nasdaq_df = clean_nasdaq_df.loc[(clean_nasdaq_df['Company'] != 'BIDU') & (clean_nasdaq_df['Company'] != 'SIRI')\n",
    "                                     & (clean_nasdaq_df['Company'] != 'INTC') & (clean_nasdaq_df['Company'] != 'TCOM')]\n",
    "\n",
    "clean_nasdaq_df = clean_nasdaq_df.reset_index(drop=True)\n",
    "\n",
    "# change price to that 12/27/19\n",
    "clean_nasdaq_df.loc[50, 'Q1 Price'] = 72.449997\n",
    "\n",
    "# change price to that 3/27/20\n",
    "clean_nasdaq_df.loc[50, 'Q2 Price'] = 61.935001\n",
    "\n",
    "# change price to that of 6/26/20\n",
    "clean_nasdaq_df.loc[50, 'Q3 Price'] = 88.407501\n",
    "\n",
    "dtale.show(clean_nasdaq_df, ignore_duplicate=True)"
   ]
  },
  {
   "cell_type": "code",
   "execution_count": 9,
   "metadata": {},
   "outputs": [],
   "source": [
    "clean_nasdaq_df = clean_nasdaq_df.dropna()\n",
    "clean_nasdaq_df = clean_nasdaq_df.reset_index(drop=True)"
   ]
  },
  {
   "cell_type": "code",
   "execution_count": 10,
   "metadata": {},
   "outputs": [
    {
     "data": {
      "text/html": [
       "\n",
       "        <iframe\n",
       "            width=\"100%\"\n",
       "            height=\"475\"\n",
       "            src=\"http://Jackies-MBP:40000/dtale/iframe/4\"\n",
       "            frameborder=\"0\"\n",
       "            allowfullscreen\n",
       "        ></iframe>\n",
       "        "
      ],
      "text/plain": [
       "<IPython.lib.display.IFrame at 0x7f9a59604730>"
      ]
     },
     "metadata": {},
     "output_type": "display_data"
    },
    {
     "data": {
      "text/plain": []
     },
     "execution_count": 10,
     "metadata": {},
     "output_type": "execute_result"
    }
   ],
   "source": [
    "dtale.show(clean_nasdaq_df, ignore_duplicate=True)"
   ]
  },
  {
   "cell_type": "code",
   "execution_count": 11,
   "metadata": {},
   "outputs": [
    {
     "data": {
      "text/html": [
       "\n",
       "        <iframe\n",
       "            width=\"100%\"\n",
       "            height=\"475\"\n",
       "            src=\"http://Jackies-MBP:40000/dtale/iframe/5\"\n",
       "            frameborder=\"0\"\n",
       "            allowfullscreen\n",
       "        ></iframe>\n",
       "        "
      ],
      "text/plain": [
       "<IPython.lib.display.IFrame at 0x7f9a5967cb50>"
      ]
     },
     "metadata": {},
     "output_type": "display_data"
    },
    {
     "data": {
      "text/plain": []
     },
     "execution_count": 11,
     "metadata": {},
     "output_type": "execute_result"
    }
   ],
   "source": [
    "big_tech_df = clean_nasdaq_df.loc[(clean_nasdaq_df['Company'] == 'FB') | (clean_nasdaq_df['Company'] == 'AMZN') |  \n",
    "                                  (clean_nasdaq_df['Company'] == 'AAPL') | \n",
    "                                  (clean_nasdaq_df['Company'] == 'MSFT') | \n",
    "                                  (clean_nasdaq_df['Company'] ==  'NFLX') | \n",
    "                                  (clean_nasdaq_df['Company'] == 'GOOG')]\n",
    "\n",
    "big_tech_df = big_tech_df.reset_index(drop=True)\n",
    "dtale.show(big_tech_df, ignore_duplicate=True)"
   ]
  },
  {
   "cell_type": "code",
   "execution_count": 12,
   "metadata": {},
   "outputs": [
    {
     "data": {
      "text/html": [
       "\n",
       "        <iframe\n",
       "            width=\"100%\"\n",
       "            height=\"475\"\n",
       "            src=\"http://Jackies-MBP:40000/dtale/iframe/6\"\n",
       "            frameborder=\"0\"\n",
       "            allowfullscreen\n",
       "        ></iframe>\n",
       "        "
      ],
      "text/plain": [
       "<IPython.lib.display.IFrame at 0x7f9a59648e80>"
      ]
     },
     "metadata": {},
     "output_type": "display_data"
    },
    {
     "data": {
      "text/plain": []
     },
     "execution_count": 12,
     "metadata": {},
     "output_type": "execute_result"
    }
   ],
   "source": [
    "# add price changes as percentage for NASDAQ\n",
    "for index, row in clean_nasdaq_df.iterrows():\n",
    "    clean_nasdaq_df.loc[index, 'Q1 Price Change'] =  100 * (row['Q1 Price'] - row['Q1 Price'])/(row['Q1 Price'])\n",
    "    clean_nasdaq_df.loc[index, 'Q2 Price Change'] =  100 * (row['Q2 Price'] - row['Q1 Price'])/(row['Q1 Price'])\n",
    "    clean_nasdaq_df.loc[index, 'Q3 Price Change'] =  100 * (row['Q3 Price'] - row['Q2 Price'])/(row['Q2 Price'])\n",
    "\n",
    "clean_nasdaq_df.to_csv('output/clean_nasdaq_df.csv')\n",
    "dtale.show(clean_nasdaq_df, ignore_duplicate=True)"
   ]
  },
  {
   "cell_type": "code",
   "execution_count": 13,
   "metadata": {},
   "outputs": [
    {
     "data": {
      "image/png": "[encoded data removed]",
      "text/plain": [
       "<Figure size 1080x720 with 1 Axes>"
      ]
     },
     "metadata": {
      "needs_background": "light"
     },
     "output_type": "display_data"
    },
    {
     "name": "stdout",
     "output_type": "stream",
     "text": [
      "The r-value is: 0.020768396239956997\n"
     ]
    }
   ],
   "source": [
    "q1_rev = clean_nasdaq_df[\"Q1 Rev Growth\"].to_list()\n",
    "q2_rev = clean_nasdaq_df[\"Q2 Rev Growth\"].to_list()\n",
    "q3_rev = clean_nasdaq_df[\"Q3 Rev Growth\"].to_list()\n",
    "\n",
    "q1_pe = clean_nasdaq_df[\"Q1 P/E\"].to_list()\n",
    "q2_pe = clean_nasdaq_df[\"Q2 P/E\"].to_list()\n",
    "q3_pe = clean_nasdaq_df[\"Q3 P/E\"].to_list()\n",
    "\n",
    "# removes the largest outliers in the dataset\n",
    "q3_rev.remove(max(q3_rev))\n",
    "q3_pe.remove(q3_pe[q3_rev.index(max(q3_rev))])\n",
    "q3_rev.remove(q3_rev[q3_pe.index(max(q3_pe))])\n",
    "q3_pe.remove(max(q3_pe))\n",
    "\n",
    "rev_growth = q1_rev + q2_rev + q3_rev\n",
    "pe_ratios = q1_pe + q2_pe + q3_pe \n",
    "\n",
    "x_values = np.array(rev_growth)\n",
    "y_values = np.array(pe_ratios)\n",
    "\n",
    "slope, intercept, r_value, p_value, std_err = stats.linregress(x_values, y_values)\n",
    "regress_values = x_values * slope + intercept\n",
    "line_eq = \"y = \" + str(round(slope,2)) + \"x + \" + str(round(intercept,2))\n",
    "\n",
    "plt.subplots(figsize=(15, 10))\n",
    "plt.plot(x_values, regress_values, \"r--\")\n",
    "plt.annotate(line_eq,(0,3000),fontsize=30, color=\"red\")\n",
    "plt.scatter(x_values, y_values, edgecolors=\"black\", facecolors=\"blue\")\n",
    "plt.xlabel(\"Rev. Growth (%)\")\n",
    "plt.ylabel(\"Price to Earnings (P/E)\")\n",
    "plt.title(\"NASDAQ P/E vs. Rev. Growth (%)\")\n",
    "plt.savefig(\"graphs/nasdaq_rev_pe.png\")\n",
    "plt.show()\n",
    "print(f\"The r-value is: {r_value}\")\n",
    "#print(\"R-squared: %f\" % r_value**2)"
   ]
  },
  {
   "cell_type": "markdown",
   "metadata": {},
   "source": [
    "# S&P Analysis"
   ]
  },
  {
   "cell_type": "code",
   "execution_count": 14,
   "metadata": {},
   "outputs": [
    {
     "data": {
      "text/html": [
       "<div>\n",
       "<style scoped>\n",
       "    .dataframe tbody tr th:only-of-type {\n",
       "        vertical-align: middle;\n",
       "    }\n",
       "\n",
       "    .dataframe tbody tr th {\n",
       "        vertical-align: top;\n",
       "    }\n",
       "\n",
       "    .dataframe thead th {\n",
       "        text-align: right;\n",
       "    }\n",
       "</style>\n",
       "<table border=\"1\" class=\"dataframe\">\n",
       "  <thead>\n",
       "    <tr style=\"text-align: right;\">\n",
       "      <th></th>\n",
       "      <th>Symbol</th>\n",
       "      <th>Q3 Date</th>\n",
       "      <th>Q3 Price</th>\n",
       "      <th>Q2 Date</th>\n",
       "      <th>Q2 Price</th>\n",
       "      <th>Q1 Date</th>\n",
       "      <th>Q1 Price</th>\n",
       "    </tr>\n",
       "  </thead>\n",
       "  <tbody>\n",
       "    <tr>\n",
       "      <th>0</th>\n",
       "      <td>WAB</td>\n",
       "      <td>2020-06-30</td>\n",
       "      <td>57.471200</td>\n",
       "      <td>2020-03-31</td>\n",
       "      <td>47.9386</td>\n",
       "      <td>2019-12-31</td>\n",
       "      <td>77.3759</td>\n",
       "    </tr>\n",
       "    <tr>\n",
       "      <th>1</th>\n",
       "      <td>TTWO</td>\n",
       "      <td>2020-06-30</td>\n",
       "      <td>139.570000</td>\n",
       "      <td>2020-03-31</td>\n",
       "      <td>118.6100</td>\n",
       "      <td>2019-12-31</td>\n",
       "      <td>122.4300</td>\n",
       "    </tr>\n",
       "    <tr>\n",
       "      <th>2</th>\n",
       "      <td>CHD</td>\n",
       "      <td>2020-06-30</td>\n",
       "      <td>77.104400</td>\n",
       "      <td>2020-03-31</td>\n",
       "      <td>63.8084</td>\n",
       "      <td>2019-12-31</td>\n",
       "      <td>70.3250</td>\n",
       "    </tr>\n",
       "    <tr>\n",
       "      <th>3</th>\n",
       "      <td>MLM</td>\n",
       "      <td>2020-06-30</td>\n",
       "      <td>206.002100</td>\n",
       "      <td>2020-03-31</td>\n",
       "      <td>188.1841</td>\n",
       "      <td>2019-12-31</td>\n",
       "      <td>277.4322</td>\n",
       "    </tr>\n",
       "    <tr>\n",
       "      <th>4</th>\n",
       "      <td>EW</td>\n",
       "      <td>2020-09-30</td>\n",
       "      <td>79.820000</td>\n",
       "      <td>2020-06-30</td>\n",
       "      <td>69.1100</td>\n",
       "      <td>2020-03-31</td>\n",
       "      <td>62.8733</td>\n",
       "    </tr>\n",
       "    <tr>\n",
       "      <th>...</th>\n",
       "      <td>...</td>\n",
       "      <td>...</td>\n",
       "      <td>...</td>\n",
       "      <td>...</td>\n",
       "      <td>...</td>\n",
       "      <td>...</td>\n",
       "      <td>...</td>\n",
       "    </tr>\n",
       "    <tr>\n",
       "      <th>501</th>\n",
       "      <td>TYL</td>\n",
       "      <td>2020-06-30</td>\n",
       "      <td>346.880000</td>\n",
       "      <td>2020-03-31</td>\n",
       "      <td>296.5600</td>\n",
       "      <td>2019-12-31</td>\n",
       "      <td>300.0200</td>\n",
       "    </tr>\n",
       "    <tr>\n",
       "      <th>502</th>\n",
       "      <td>BIO</td>\n",
       "      <td>2020-06-30</td>\n",
       "      <td>451.490000</td>\n",
       "      <td>2020-03-31</td>\n",
       "      <td>350.5600</td>\n",
       "      <td>2019-12-31</td>\n",
       "      <td>370.0300</td>\n",
       "    </tr>\n",
       "    <tr>\n",
       "      <th>503</th>\n",
       "      <td>WST</td>\n",
       "      <td>2020-09-30</td>\n",
       "      <td>274.899994</td>\n",
       "      <td>2020-06-30</td>\n",
       "      <td>227.0339</td>\n",
       "      <td>2020-03-31</td>\n",
       "      <td>152.0159</td>\n",
       "    </tr>\n",
       "    <tr>\n",
       "      <th>504</th>\n",
       "      <td>DPZ</td>\n",
       "      <td>2020-09-06</td>\n",
       "      <td>NaN</td>\n",
       "      <td>2020-06-14</td>\n",
       "      <td>NaN</td>\n",
       "      <td>2020-03-22</td>\n",
       "      <td>NaN</td>\n",
       "    </tr>\n",
       "    <tr>\n",
       "      <th>505</th>\n",
       "      <td>CARR</td>\n",
       "      <td>2020-06-30</td>\n",
       "      <td>22.220000</td>\n",
       "      <td>2020-03-31</td>\n",
       "      <td>17.1868</td>\n",
       "      <td>NaN</td>\n",
       "      <td>NaN</td>\n",
       "    </tr>\n",
       "  </tbody>\n",
       "</table>\n",
       "<p>506 rows × 7 columns</p>\n",
       "</div>"
      ],
      "text/plain": [
       "    Symbol     Q3 Date    Q3 Price     Q2 Date  Q2 Price     Q1 Date  Q1 Price\n",
       "0      WAB  2020-06-30   57.471200  2020-03-31   47.9386  2019-12-31   77.3759\n",
       "1     TTWO  2020-06-30  139.570000  2020-03-31  118.6100  2019-12-31  122.4300\n",
       "2      CHD  2020-06-30   77.104400  2020-03-31   63.8084  2019-12-31   70.3250\n",
       "3      MLM  2020-06-30  206.002100  2020-03-31  188.1841  2019-12-31  277.4322\n",
       "4       EW  2020-09-30   79.820000  2020-06-30   69.1100  2020-03-31   62.8733\n",
       "..     ...         ...         ...         ...       ...         ...       ...\n",
       "501    TYL  2020-06-30  346.880000  2020-03-31  296.5600  2019-12-31  300.0200\n",
       "502    BIO  2020-06-30  451.490000  2020-03-31  350.5600  2019-12-31  370.0300\n",
       "503    WST  2020-09-30  274.899994  2020-06-30  227.0339  2020-03-31  152.0159\n",
       "504    DPZ  2020-09-06         NaN  2020-06-14       NaN  2020-03-22       NaN\n",
       "505   CARR  2020-06-30   22.220000  2020-03-31   17.1868         NaN       NaN\n",
       "\n",
       "[506 rows x 7 columns]"
      ]
     },
     "execution_count": 14,
     "metadata": {},
     "output_type": "execute_result"
    }
   ],
   "source": [
    "base = 'output/'\n",
    "\n",
    "historical_prices_df = pd.read_csv(base + 'snp_historical_prices.csv')\n",
    "historical_prices_df = historical_prices_df.drop(columns='Unnamed: 0')\n",
    "historical_prices_df = historical_prices_df.drop(columns='Company')\n",
    "historical_prices_df"
   ]
  },
  {
   "cell_type": "code",
   "execution_count": 15,
   "metadata": {},
   "outputs": [
    {
     "data": {
      "text/html": [
       "<div>\n",
       "<style scoped>\n",
       "    .dataframe tbody tr th:only-of-type {\n",
       "        vertical-align: middle;\n",
       "    }\n",
       "\n",
       "    .dataframe tbody tr th {\n",
       "        vertical-align: top;\n",
       "    }\n",
       "\n",
       "    .dataframe thead th {\n",
       "        text-align: right;\n",
       "    }\n",
       "</style>\n",
       "<table border=\"1\" class=\"dataframe\">\n",
       "  <thead>\n",
       "    <tr style=\"text-align: right;\">\n",
       "      <th></th>\n",
       "      <th>Symbol</th>\n",
       "      <th>Q1 P/E</th>\n",
       "      <th>Q2 P/E</th>\n",
       "      <th>Q3 P/E</th>\n",
       "      <th>Q1 ROE</th>\n",
       "      <th>Q2 ROE</th>\n",
       "      <th>Q3 ROE</th>\n",
       "      <th>Q1 Date</th>\n",
       "      <th>Q2 Date</th>\n",
       "      <th>Q3 Date</th>\n",
       "    </tr>\n",
       "  </thead>\n",
       "  <tbody>\n",
       "    <tr>\n",
       "      <th>0</th>\n",
       "      <td>MMM</td>\n",
       "      <td>60.287913</td>\n",
       "      <td>69.598300</td>\n",
       "      <td>65.179024</td>\n",
       "      <td>0.127328</td>\n",
       "      <td>0.118817</td>\n",
       "      <td>0.119360</td>\n",
       "      <td>2020-03-31</td>\n",
       "      <td>2020-06-30</td>\n",
       "      <td>2020-09-30</td>\n",
       "    </tr>\n",
       "    <tr>\n",
       "      <th>1</th>\n",
       "      <td>AOS</td>\n",
       "      <td>84.339444</td>\n",
       "      <td>117.939760</td>\n",
       "      <td>112.200856</td>\n",
       "      <td>0.054776</td>\n",
       "      <td>0.031987</td>\n",
       "      <td>0.040890</td>\n",
       "      <td>2019-12-31</td>\n",
       "      <td>2020-03-31</td>\n",
       "      <td>2020-06-30</td>\n",
       "    </tr>\n",
       "    <tr>\n",
       "      <th>2</th>\n",
       "      <td>ABT</td>\n",
       "      <td>145.714952</td>\n",
       "      <td>247.118970</td>\n",
       "      <td>302.746773</td>\n",
       "      <td>0.033743</td>\n",
       "      <td>0.018664</td>\n",
       "      <td>0.017562</td>\n",
       "      <td>2019-12-31</td>\n",
       "      <td>2020-03-31</td>\n",
       "      <td>2020-06-30</td>\n",
       "    </tr>\n",
       "    <tr>\n",
       "      <th>3</th>\n",
       "      <td>ABBV</td>\n",
       "      <td>45.145182</td>\n",
       "      <td>39.608159</td>\n",
       "      <td>-216.466906</td>\n",
       "      <td>-0.342756</td>\n",
       "      <td>-0.405934</td>\n",
       "      <td>-0.050177</td>\n",
       "      <td>2019-12-31</td>\n",
       "      <td>2020-03-31</td>\n",
       "      <td>2020-06-30</td>\n",
       "    </tr>\n",
       "    <tr>\n",
       "      <th>4</th>\n",
       "      <td>ABMD</td>\n",
       "      <td>112.618433</td>\n",
       "      <td>207.523380</td>\n",
       "      <td>246.766315</td>\n",
       "      <td>0.066118</td>\n",
       "      <td>0.029844</td>\n",
       "      <td>0.040467</td>\n",
       "      <td>2019-12-31</td>\n",
       "      <td>2020-03-31</td>\n",
       "      <td>2020-06-30</td>\n",
       "    </tr>\n",
       "    <tr>\n",
       "      <th>...</th>\n",
       "      <td>...</td>\n",
       "      <td>...</td>\n",
       "      <td>...</td>\n",
       "      <td>...</td>\n",
       "      <td>...</td>\n",
       "      <td>...</td>\n",
       "      <td>...</td>\n",
       "      <td>...</td>\n",
       "      <td>...</td>\n",
       "      <td>...</td>\n",
       "    </tr>\n",
       "    <tr>\n",
       "      <th>500</th>\n",
       "      <td>YUM</td>\n",
       "      <td>63.062576</td>\n",
       "      <td>250.930704</td>\n",
       "      <td>128.890820</td>\n",
       "      <td>-0.060878</td>\n",
       "      <td>-0.010086</td>\n",
       "      <td>-0.025407</td>\n",
       "      <td>2019-12-31</td>\n",
       "      <td>2020-03-31</td>\n",
       "      <td>2020-06-30</td>\n",
       "    </tr>\n",
       "    <tr>\n",
       "      <th>501</th>\n",
       "      <td>ZBRA</td>\n",
       "      <td>81.610223</td>\n",
       "      <td>112.645850</td>\n",
       "      <td>132.267734</td>\n",
       "      <td>0.091898</td>\n",
       "      <td>0.051534</td>\n",
       "      <td>0.055463</td>\n",
       "      <td>2019-12-31</td>\n",
       "      <td>2020-03-28</td>\n",
       "      <td>2020-06-27</td>\n",
       "    </tr>\n",
       "    <tr>\n",
       "      <th>502</th>\n",
       "      <td>ZBH</td>\n",
       "      <td>96.590975</td>\n",
       "      <td>-40.962778</td>\n",
       "      <td>-119.475547</td>\n",
       "      <td>0.025888</td>\n",
       "      <td>-0.042808</td>\n",
       "      <td>-0.017747</td>\n",
       "      <td>2019-12-31</td>\n",
       "      <td>2020-03-31</td>\n",
       "      <td>2020-06-30</td>\n",
       "    </tr>\n",
       "    <tr>\n",
       "      <th>503</th>\n",
       "      <td>ZION</td>\n",
       "      <td>49.450866</td>\n",
       "      <td>323.769464</td>\n",
       "      <td>83.890133</td>\n",
       "      <td>0.024888</td>\n",
       "      <td>0.001874</td>\n",
       "      <td>0.008713</td>\n",
       "      <td>2019-12-31</td>\n",
       "      <td>2020-03-31</td>\n",
       "      <td>2020-06-30</td>\n",
       "    </tr>\n",
       "    <tr>\n",
       "      <th>504</th>\n",
       "      <td>ZTS</td>\n",
       "      <td>162.667629</td>\n",
       "      <td>132.869278</td>\n",
       "      <td>173.546749</td>\n",
       "      <td>0.141802</td>\n",
       "      <td>0.153651</td>\n",
       "      <td>0.126425</td>\n",
       "      <td>2019-12-31</td>\n",
       "      <td>2020-03-31</td>\n",
       "      <td>2020-06-30</td>\n",
       "    </tr>\n",
       "  </tbody>\n",
       "</table>\n",
       "<p>505 rows × 10 columns</p>\n",
       "</div>"
      ],
      "text/plain": [
       "    Symbol      Q1 P/E      Q2 P/E      Q3 P/E    Q1 ROE    Q2 ROE    Q3 ROE  \\\n",
       "0      MMM   60.287913   69.598300   65.179024  0.127328  0.118817  0.119360   \n",
       "1      AOS   84.339444  117.939760  112.200856  0.054776  0.031987  0.040890   \n",
       "2      ABT  145.714952  247.118970  302.746773  0.033743  0.018664  0.017562   \n",
       "3     ABBV   45.145182   39.608159 -216.466906 -0.342756 -0.405934 -0.050177   \n",
       "4     ABMD  112.618433  207.523380  246.766315  0.066118  0.029844  0.040467   \n",
       "..     ...         ...         ...         ...       ...       ...       ...   \n",
       "500    YUM   63.062576  250.930704  128.890820 -0.060878 -0.010086 -0.025407   \n",
       "501   ZBRA   81.610223  112.645850  132.267734  0.091898  0.051534  0.055463   \n",
       "502    ZBH   96.590975  -40.962778 -119.475547  0.025888 -0.042808 -0.017747   \n",
       "503   ZION   49.450866  323.769464   83.890133  0.024888  0.001874  0.008713   \n",
       "504    ZTS  162.667629  132.869278  173.546749  0.141802  0.153651  0.126425   \n",
       "\n",
       "        Q1 Date     Q2 Date     Q3 Date  \n",
       "0    2020-03-31  2020-06-30  2020-09-30  \n",
       "1    2019-12-31  2020-03-31  2020-06-30  \n",
       "2    2019-12-31  2020-03-31  2020-06-30  \n",
       "3    2019-12-31  2020-03-31  2020-06-30  \n",
       "4    2019-12-31  2020-03-31  2020-06-30  \n",
       "..          ...         ...         ...  \n",
       "500  2019-12-31  2020-03-31  2020-06-30  \n",
       "501  2019-12-31  2020-03-28  2020-06-27  \n",
       "502  2019-12-31  2020-03-31  2020-06-30  \n",
       "503  2019-12-31  2020-03-31  2020-06-30  \n",
       "504  2019-12-31  2020-03-31  2020-06-30  \n",
       "\n",
       "[505 rows x 10 columns]"
      ]
     },
     "execution_count": 15,
     "metadata": {},
     "output_type": "execute_result"
    }
   ],
   "source": [
    "financial_ratios_df = pd.read_csv(base + 's&p_finratios.csv')\n",
    "financial_ratios_df = financial_ratios_df.drop(columns='Unnamed: 0')\n",
    "financial_ratios_df"
   ]
  },
  {
   "cell_type": "code",
   "execution_count": 16,
   "metadata": {},
   "outputs": [
    {
     "data": {
      "text/html": [
       "<div>\n",
       "<style scoped>\n",
       "    .dataframe tbody tr th:only-of-type {\n",
       "        vertical-align: middle;\n",
       "    }\n",
       "\n",
       "    .dataframe tbody tr th {\n",
       "        vertical-align: top;\n",
       "    }\n",
       "\n",
       "    .dataframe thead th {\n",
       "        text-align: right;\n",
       "    }\n",
       "</style>\n",
       "<table border=\"1\" class=\"dataframe\">\n",
       "  <thead>\n",
       "    <tr style=\"text-align: right;\">\n",
       "      <th></th>\n",
       "      <th>Sector</th>\n",
       "      <th>Symbol</th>\n",
       "      <th>Q1 Rev Growth</th>\n",
       "      <th>Q1 Op Inc Growth</th>\n",
       "      <th>Q1 EPS Growth</th>\n",
       "      <th>Q2 Rev Growth</th>\n",
       "      <th>Q2 Op Inc Growth</th>\n",
       "      <th>Q2 EPS Growth</th>\n",
       "      <th>Q3 Rev Growth</th>\n",
       "      <th>Q3 Op Inc Growth</th>\n",
       "      <th>Q3 EPS Growth</th>\n",
       "    </tr>\n",
       "  </thead>\n",
       "  <tbody>\n",
       "    <tr>\n",
       "      <th>0</th>\n",
       "      <td>Industrials</td>\n",
       "      <td>MMM</td>\n",
       "      <td>0.015017</td>\n",
       "      <td>-0.359025</td>\n",
       "      <td>-0.387556</td>\n",
       "      <td>-0.004438</td>\n",
       "      <td>0.290147</td>\n",
       "      <td>0.336083</td>\n",
       "      <td>-0.111331</td>\n",
       "      <td>0.046302</td>\n",
       "      <td>-0.000347</td>\n",
       "    </tr>\n",
       "    <tr>\n",
       "      <th>1</th>\n",
       "      <td>Industrials</td>\n",
       "      <td>AOS</td>\n",
       "      <td>0.031173</td>\n",
       "      <td>0.023936</td>\n",
       "      <td>0.054670</td>\n",
       "      <td>-0.151818</td>\n",
       "      <td>-0.413853</td>\n",
       "      <td>-0.429357</td>\n",
       "      <td>0.042393</td>\n",
       "      <td>0.285081</td>\n",
       "      <td>0.317254</td>\n",
       "    </tr>\n",
       "    <tr>\n",
       "      <th>2</th>\n",
       "      <td>Health Care</td>\n",
       "      <td>ABT</td>\n",
       "      <td>0.029470</td>\n",
       "      <td>0.106845</td>\n",
       "      <td>0.094281</td>\n",
       "      <td>-0.070724</td>\n",
       "      <td>-0.390649</td>\n",
       "      <td>-0.462041</td>\n",
       "      <td>-0.051514</td>\n",
       "      <td>-0.155941</td>\n",
       "      <td>-0.050260</td>\n",
       "    </tr>\n",
       "    <tr>\n",
       "      <th>3</th>\n",
       "      <td>Health Care</td>\n",
       "      <td>ABBV</td>\n",
       "      <td>0.026536</td>\n",
       "      <td>0.511655</td>\n",
       "      <td>0.482730</td>\n",
       "      <td>-0.009766</td>\n",
       "      <td>-0.089232</td>\n",
       "      <td>-0.005941</td>\n",
       "      <td>0.209537</td>\n",
       "      <td>-0.791285</td>\n",
       "      <td>-1.239304</td>\n",
       "    </tr>\n",
       "    <tr>\n",
       "      <th>4</th>\n",
       "      <td>Health Care</td>\n",
       "      <td>ABMD</td>\n",
       "      <td>0.081035</td>\n",
       "      <td>0.167442</td>\n",
       "      <td>4.320548</td>\n",
       "      <td>-0.067360</td>\n",
       "      <td>-0.240638</td>\n",
       "      <td>-0.538217</td>\n",
       "      <td>-0.202305</td>\n",
       "      <td>-0.361486</td>\n",
       "      <td>0.399448</td>\n",
       "    </tr>\n",
       "    <tr>\n",
       "      <th>...</th>\n",
       "      <td>...</td>\n",
       "      <td>...</td>\n",
       "      <td>...</td>\n",
       "      <td>...</td>\n",
       "      <td>...</td>\n",
       "      <td>...</td>\n",
       "      <td>...</td>\n",
       "      <td>...</td>\n",
       "      <td>...</td>\n",
       "      <td>...</td>\n",
       "      <td>...</td>\n",
       "    </tr>\n",
       "    <tr>\n",
       "      <th>500</th>\n",
       "      <td>Consumer Discretionary</td>\n",
       "      <td>YUM</td>\n",
       "      <td>0.265123</td>\n",
       "      <td>0.137500</td>\n",
       "      <td>0.932233</td>\n",
       "      <td>-0.254427</td>\n",
       "      <td>-0.542125</td>\n",
       "      <td>-0.828255</td>\n",
       "      <td>-0.051465</td>\n",
       "      <td>0.200000</td>\n",
       "      <td>1.481913</td>\n",
       "    </tr>\n",
       "    <tr>\n",
       "      <th>501</th>\n",
       "      <td>Information Technology</td>\n",
       "      <td>ZBRA</td>\n",
       "      <td>0.054867</td>\n",
       "      <td>0.016216</td>\n",
       "      <td>0.257473</td>\n",
       "      <td>-0.117450</td>\n",
       "      <td>-0.196809</td>\n",
       "      <td>-0.476518</td>\n",
       "      <td>-0.091255</td>\n",
       "      <td>-0.211921</td>\n",
       "      <td>0.137040</td>\n",
       "    </tr>\n",
       "    <tr>\n",
       "      <th>502</th>\n",
       "      <td>Health Care</td>\n",
       "      <td>ZBH</td>\n",
       "      <td>0.123283</td>\n",
       "      <td>0.370220</td>\n",
       "      <td>-0.259309</td>\n",
       "      <td>-0.160841</td>\n",
       "      <td>-2.353919</td>\n",
       "      <td>-2.596342</td>\n",
       "      <td>-0.312647</td>\n",
       "      <td>0.623465</td>\n",
       "      <td>0.594298</td>\n",
       "    </tr>\n",
       "    <tr>\n",
       "      <th>503</th>\n",
       "      <td>Financials</td>\n",
       "      <td>ZION</td>\n",
       "      <td>-0.002805</td>\n",
       "      <td>-0.184028</td>\n",
       "      <td>-0.164003</td>\n",
       "      <td>-0.040788</td>\n",
       "      <td>-0.931915</td>\n",
       "      <td>-0.920693</td>\n",
       "      <td>-0.002933</td>\n",
       "      <td>4.125000</td>\n",
       "      <td>3.959842</td>\n",
       "    </tr>\n",
       "    <tr>\n",
       "      <th>504</th>\n",
       "      <td>Health Care</td>\n",
       "      <td>ZTS</td>\n",
       "      <td>0.056818</td>\n",
       "      <td>-0.172348</td>\n",
       "      <td>-0.099269</td>\n",
       "      <td>-0.083632</td>\n",
       "      <td>0.137300</td>\n",
       "      <td>0.090235</td>\n",
       "      <td>0.009126</td>\n",
       "      <td>-0.030181</td>\n",
       "      <td>-0.107067</td>\n",
       "    </tr>\n",
       "  </tbody>\n",
       "</table>\n",
       "<p>505 rows × 11 columns</p>\n",
       "</div>"
      ],
      "text/plain": [
       "                     Sector Symbol  Q1 Rev Growth  Q1 Op Inc Growth  \\\n",
       "0               Industrials    MMM       0.015017         -0.359025   \n",
       "1               Industrials    AOS       0.031173          0.023936   \n",
       "2               Health Care    ABT       0.029470          0.106845   \n",
       "3               Health Care   ABBV       0.026536          0.511655   \n",
       "4               Health Care   ABMD       0.081035          0.167442   \n",
       "..                      ...    ...            ...               ...   \n",
       "500  Consumer Discretionary    YUM       0.265123          0.137500   \n",
       "501  Information Technology   ZBRA       0.054867          0.016216   \n",
       "502             Health Care    ZBH       0.123283          0.370220   \n",
       "503              Financials   ZION      -0.002805         -0.184028   \n",
       "504             Health Care    ZTS       0.056818         -0.172348   \n",
       "\n",
       "     Q1 EPS Growth  Q2 Rev Growth  Q2 Op Inc Growth  Q2 EPS Growth  \\\n",
       "0        -0.387556      -0.004438          0.290147       0.336083   \n",
       "1         0.054670      -0.151818         -0.413853      -0.429357   \n",
       "2         0.094281      -0.070724         -0.390649      -0.462041   \n",
       "3         0.482730      -0.009766         -0.089232      -0.005941   \n",
       "4         4.320548      -0.067360         -0.240638      -0.538217   \n",
       "..             ...            ...               ...            ...   \n",
       "500       0.932233      -0.254427         -0.542125      -0.828255   \n",
       "501       0.257473      -0.117450         -0.196809      -0.476518   \n",
       "502      -0.259309      -0.160841         -2.353919      -2.596342   \n",
       "503      -0.164003      -0.040788         -0.931915      -0.920693   \n",
       "504      -0.099269      -0.083632          0.137300       0.090235   \n",
       "\n",
       "     Q3 Rev Growth  Q3 Op Inc Growth  Q3 EPS Growth  \n",
       "0        -0.111331          0.046302      -0.000347  \n",
       "1         0.042393          0.285081       0.317254  \n",
       "2        -0.051514         -0.155941      -0.050260  \n",
       "3         0.209537         -0.791285      -1.239304  \n",
       "4        -0.202305         -0.361486       0.399448  \n",
       "..             ...               ...            ...  \n",
       "500      -0.051465          0.200000       1.481913  \n",
       "501      -0.091255         -0.211921       0.137040  \n",
       "502      -0.312647          0.623465       0.594298  \n",
       "503      -0.002933          4.125000       3.959842  \n",
       "504       0.009126         -0.030181      -0.107067  \n",
       "\n",
       "[505 rows x 11 columns]"
      ]
     },
     "execution_count": 16,
     "metadata": {},
     "output_type": "execute_result"
    }
   ],
   "source": [
    "financial_growth_df = pd.read_csv(base + 'growth_data_SnP.csv')\n",
    "#financial_growth_df = financial_growth_df.rename(columns={\"Name\": \"Company\"})\n",
    "financial_growth_df = financial_growth_df.drop(columns='Unnamed: 0')\n",
    "financial_growth_df = financial_growth_df.drop(columns='Name')\n",
    "financial_growth_df"
   ]
  },
  {
   "cell_type": "code",
   "execution_count": 17,
   "metadata": {},
   "outputs": [
    {
     "data": {
      "text/html": [
       "<div>\n",
       "<style scoped>\n",
       "    .dataframe tbody tr th:only-of-type {\n",
       "        vertical-align: middle;\n",
       "    }\n",
       "\n",
       "    .dataframe tbody tr th {\n",
       "        vertical-align: top;\n",
       "    }\n",
       "\n",
       "    .dataframe thead th {\n",
       "        text-align: right;\n",
       "    }\n",
       "</style>\n",
       "<table border=\"1\" class=\"dataframe\">\n",
       "  <thead>\n",
       "    <tr style=\"text-align: right;\">\n",
       "      <th></th>\n",
       "      <th>Symbol</th>\n",
       "      <th>Q3 Date</th>\n",
       "      <th>Q3 Price</th>\n",
       "      <th>Q2 Date</th>\n",
       "      <th>Q2 Price</th>\n",
       "      <th>Q1 Date</th>\n",
       "      <th>Q1 Price</th>\n",
       "      <th>Q1 P/E</th>\n",
       "      <th>Q2 P/E</th>\n",
       "      <th>Q3 P/E</th>\n",
       "      <th>Q1 ROE</th>\n",
       "      <th>Q2 ROE</th>\n",
       "      <th>Q3 ROE</th>\n",
       "    </tr>\n",
       "  </thead>\n",
       "  <tbody>\n",
       "    <tr>\n",
       "      <th>0</th>\n",
       "      <td>WAB</td>\n",
       "      <td>2020-06-30</td>\n",
       "      <td>57.4712</td>\n",
       "      <td>2020-03-31</td>\n",
       "      <td>47.9386</td>\n",
       "      <td>2019-12-31</td>\n",
       "      <td>77.3759</td>\n",
       "      <td>109.820179</td>\n",
       "      <td>82.217276</td>\n",
       "      <td>125.933436</td>\n",
       "      <td>0.013629</td>\n",
       "      <td>0.011432</td>\n",
       "      <td>0.008816</td>\n",
       "    </tr>\n",
       "    <tr>\n",
       "      <th>1</th>\n",
       "      <td>TTWO</td>\n",
       "      <td>2020-06-30</td>\n",
       "      <td>139.5700</td>\n",
       "      <td>2020-03-31</td>\n",
       "      <td>118.6100</td>\n",
       "      <td>2019-12-31</td>\n",
       "      <td>122.4300</td>\n",
       "      <td>85.479994</td>\n",
       "      <td>110.679922</td>\n",
       "      <td>181.282514</td>\n",
       "      <td>0.068126</td>\n",
       "      <td>0.048330</td>\n",
       "      <td>0.033385</td>\n",
       "    </tr>\n",
       "    <tr>\n",
       "      <th>2</th>\n",
       "      <td>CHD</td>\n",
       "      <td>2020-06-30</td>\n",
       "      <td>77.1044</td>\n",
       "      <td>2020-03-31</td>\n",
       "      <td>63.8084</td>\n",
       "      <td>2019-12-31</td>\n",
       "      <td>70.3250</td>\n",
       "      <td>121.142478</td>\n",
       "      <td>69.694989</td>\n",
       "      <td>102.141991</td>\n",
       "      <td>0.054127</td>\n",
       "      <td>0.081553</td>\n",
       "      <td>0.063259</td>\n",
       "    </tr>\n",
       "    <tr>\n",
       "      <th>3</th>\n",
       "      <td>MLM</td>\n",
       "      <td>2020-06-30</td>\n",
       "      <td>206.0021</td>\n",
       "      <td>2020-03-31</td>\n",
       "      <td>188.1841</td>\n",
       "      <td>2019-12-31</td>\n",
       "      <td>277.4322</td>\n",
       "      <td>132.628429</td>\n",
       "      <td>454.112210</td>\n",
       "      <td>58.979462</td>\n",
       "      <td>0.024482</td>\n",
       "      <td>0.004890</td>\n",
       "      <td>0.039628</td>\n",
       "    </tr>\n",
       "    <tr>\n",
       "      <th>4</th>\n",
       "      <td>EW</td>\n",
       "      <td>2020-09-30</td>\n",
       "      <td>79.8200</td>\n",
       "      <td>2020-06-30</td>\n",
       "      <td>69.1100</td>\n",
       "      <td>2020-03-31</td>\n",
       "      <td>62.8733</td>\n",
       "      <td>128.561597</td>\n",
       "      <td>-351.672953</td>\n",
       "      <td>152.742884</td>\n",
       "      <td>0.079619</td>\n",
       "      <td>-0.031752</td>\n",
       "      <td>0.077239</td>\n",
       "    </tr>\n",
       "    <tr>\n",
       "      <th>...</th>\n",
       "      <td>...</td>\n",
       "      <td>...</td>\n",
       "      <td>...</td>\n",
       "      <td>...</td>\n",
       "      <td>...</td>\n",
       "      <td>...</td>\n",
       "      <td>...</td>\n",
       "      <td>...</td>\n",
       "      <td>...</td>\n",
       "      <td>...</td>\n",
       "      <td>...</td>\n",
       "      <td>...</td>\n",
       "      <td>...</td>\n",
       "    </tr>\n",
       "    <tr>\n",
       "      <th>507</th>\n",
       "      <td>COTY</td>\n",
       "      <td>2020-06-30</td>\n",
       "      <td>NaN</td>\n",
       "      <td>2020-03-31</td>\n",
       "      <td>NaN</td>\n",
       "      <td>2019-12-31</td>\n",
       "      <td>NaN</td>\n",
       "      <td>-399.820503</td>\n",
       "      <td>-14.454080</td>\n",
       "      <td>-4.452500</td>\n",
       "      <td>-0.004719</td>\n",
       "      <td>-0.072772</td>\n",
       "      <td>-0.255042</td>\n",
       "    </tr>\n",
       "    <tr>\n",
       "      <th>508</th>\n",
       "      <td>ETFC</td>\n",
       "      <td>2020-06-30</td>\n",
       "      <td>NaN</td>\n",
       "      <td>2020-03-31</td>\n",
       "      <td>NaN</td>\n",
       "      <td>2019-12-31</td>\n",
       "      <td>NaN</td>\n",
       "      <td>58.870841</td>\n",
       "      <td>41.980099</td>\n",
       "      <td>56.101336</td>\n",
       "      <td>0.026288</td>\n",
       "      <td>0.027765</td>\n",
       "      <td>0.028739</td>\n",
       "    </tr>\n",
       "    <tr>\n",
       "      <th>509</th>\n",
       "      <td>HRB</td>\n",
       "      <td>2020-07-31</td>\n",
       "      <td>NaN</td>\n",
       "      <td>2020-04-30</td>\n",
       "      <td>NaN</td>\n",
       "      <td>2020-01-31</td>\n",
       "      <td>NaN</td>\n",
       "      <td>-33.604415</td>\n",
       "      <td>6.843748</td>\n",
       "      <td>30.835003</td>\n",
       "      <td>0.407323</td>\n",
       "      <td>6.480807</td>\n",
       "      <td>0.674608</td>\n",
       "    </tr>\n",
       "    <tr>\n",
       "      <th>510</th>\n",
       "      <td>KSS</td>\n",
       "      <td>2020-08-01</td>\n",
       "      <td>NaN</td>\n",
       "      <td>2020-05-02</td>\n",
       "      <td>NaN</td>\n",
       "      <td>2020-02-01</td>\n",
       "      <td>NaN</td>\n",
       "      <td>22.899058</td>\n",
       "      <td>-5.471127</td>\n",
       "      <td>70.442556</td>\n",
       "      <td>0.048624</td>\n",
       "      <td>-0.112944</td>\n",
       "      <td>0.009717</td>\n",
       "    </tr>\n",
       "    <tr>\n",
       "      <th>511</th>\n",
       "      <td>OTIS</td>\n",
       "      <td>NaN</td>\n",
       "      <td>NaN</td>\n",
       "      <td>NaN</td>\n",
       "      <td>NaN</td>\n",
       "      <td>NaN</td>\n",
       "      <td>NaN</td>\n",
       "      <td>NaN</td>\n",
       "      <td>130.333177</td>\n",
       "      <td>109.841447</td>\n",
       "      <td>NaN</td>\n",
       "      <td>NaN</td>\n",
       "      <td>NaN</td>\n",
       "    </tr>\n",
       "  </tbody>\n",
       "</table>\n",
       "<p>512 rows × 13 columns</p>\n",
       "</div>"
      ],
      "text/plain": [
       "    Symbol     Q3 Date  Q3 Price     Q2 Date  Q2 Price     Q1 Date  Q1 Price  \\\n",
       "0      WAB  2020-06-30   57.4712  2020-03-31   47.9386  2019-12-31   77.3759   \n",
       "1     TTWO  2020-06-30  139.5700  2020-03-31  118.6100  2019-12-31  122.4300   \n",
       "2      CHD  2020-06-30   77.1044  2020-03-31   63.8084  2019-12-31   70.3250   \n",
       "3      MLM  2020-06-30  206.0021  2020-03-31  188.1841  2019-12-31  277.4322   \n",
       "4       EW  2020-09-30   79.8200  2020-06-30   69.1100  2020-03-31   62.8733   \n",
       "..     ...         ...       ...         ...       ...         ...       ...   \n",
       "507   COTY  2020-06-30       NaN  2020-03-31       NaN  2019-12-31       NaN   \n",
       "508   ETFC  2020-06-30       NaN  2020-03-31       NaN  2019-12-31       NaN   \n",
       "509    HRB  2020-07-31       NaN  2020-04-30       NaN  2020-01-31       NaN   \n",
       "510    KSS  2020-08-01       NaN  2020-05-02       NaN  2020-02-01       NaN   \n",
       "511   OTIS         NaN       NaN         NaN       NaN         NaN       NaN   \n",
       "\n",
       "         Q1 P/E      Q2 P/E      Q3 P/E    Q1 ROE    Q2 ROE    Q3 ROE  \n",
       "0    109.820179   82.217276  125.933436  0.013629  0.011432  0.008816  \n",
       "1     85.479994  110.679922  181.282514  0.068126  0.048330  0.033385  \n",
       "2    121.142478   69.694989  102.141991  0.054127  0.081553  0.063259  \n",
       "3    132.628429  454.112210   58.979462  0.024482  0.004890  0.039628  \n",
       "4    128.561597 -351.672953  152.742884  0.079619 -0.031752  0.077239  \n",
       "..          ...         ...         ...       ...       ...       ...  \n",
       "507 -399.820503  -14.454080   -4.452500 -0.004719 -0.072772 -0.255042  \n",
       "508   58.870841   41.980099   56.101336  0.026288  0.027765  0.028739  \n",
       "509  -33.604415    6.843748   30.835003  0.407323  6.480807  0.674608  \n",
       "510   22.899058   -5.471127   70.442556  0.048624 -0.112944  0.009717  \n",
       "511         NaN  130.333177  109.841447       NaN       NaN       NaN  \n",
       "\n",
       "[512 rows x 13 columns]"
      ]
     },
     "execution_count": 17,
     "metadata": {},
     "output_type": "execute_result"
    }
   ],
   "source": [
    "snp_price_ratio_df = historical_prices_df.merge(financial_ratios_df, how='outer', on=['Symbol', 'Q1 Date', 'Q2 Date', 'Q3 Date'])\n",
    "\n",
    "snp_price_ratio_df"
   ]
  },
  {
   "cell_type": "code",
   "execution_count": 18,
   "metadata": {},
   "outputs": [
    {
     "data": {
      "text/html": [
       "\n",
       "        <iframe\n",
       "            width=\"100%\"\n",
       "            height=\"475\"\n",
       "            src=\"http://Jackies-MBP:40000/dtale/iframe/7\"\n",
       "            frameborder=\"0\"\n",
       "            allowfullscreen\n",
       "        ></iframe>\n",
       "        "
      ],
      "text/plain": [
       "<IPython.lib.display.IFrame at 0x7f9a5959a5e0>"
      ]
     },
     "metadata": {},
     "output_type": "display_data"
    },
    {
     "data": {
      "text/plain": []
     },
     "execution_count": 18,
     "metadata": {},
     "output_type": "execute_result"
    }
   ],
   "source": [
    "snp_df = snp_price_ratio_df.merge(financial_growth_df, how='outer', on=['Symbol'])\n",
    "\n",
    "dtale.show(snp_df, ignore_duplicate=True)"
   ]
  },
  {
   "cell_type": "code",
   "execution_count": 19,
   "metadata": {},
   "outputs": [
    {
     "data": {
      "text/html": [
       "\n",
       "        <iframe\n",
       "            width=\"100%\"\n",
       "            height=\"475\"\n",
       "            src=\"http://Jackies-MBP:40000/dtale/iframe/8\"\n",
       "            frameborder=\"0\"\n",
       "            allowfullscreen\n",
       "        ></iframe>\n",
       "        "
      ],
      "text/plain": [
       "<IPython.lib.display.IFrame at 0x7f9a59eaa040>"
      ]
     },
     "metadata": {},
     "output_type": "display_data"
    },
    {
     "data": {
      "text/plain": []
     },
     "execution_count": 19,
     "metadata": {},
     "output_type": "execute_result"
    }
   ],
   "source": [
    "clean_snp_df = snp_df.loc[(snp_df['Symbol'] != 'OTIS') & (snp_df['Symbol'] != 'AXP')\n",
    "                          & (snp_df['Symbol'] != 'CARR')]\n",
    "\n",
    "clean_snp_df = clean_snp_df.reset_index(drop=True)\n",
    "\n",
    "# change price to that 12/27/19\n",
    "clean_snp_df.loc[184, 'Q1 Price'] = 72.449997\n",
    "\n",
    "# change price to that 3/27/20\n",
    "clean_snp_df.loc[184, 'Q2 Price'] = 61.935001\n",
    "\n",
    "# change price to that of 6/26/20\n",
    "clean_snp_df.loc[184, 'Q3 Price'] = 88.407501\n",
    "\n",
    "dtale.show(clean_snp_df, ignore_duplicate=True)"
   ]
  },
  {
   "cell_type": "code",
   "execution_count": 20,
   "metadata": {},
   "outputs": [],
   "source": [
    "clean_snp_df = clean_snp_df.dropna()\n",
    "clean_snp_df = clean_snp_df.rename(columns={'Symbol': 'Company'})\n",
    "clean_snp_df = clean_snp_df.reset_index(drop=True)"
   ]
  },
  {
   "cell_type": "code",
   "execution_count": 21,
   "metadata": {},
   "outputs": [
    {
     "data": {
      "text/html": [
       "\n",
       "        <iframe\n",
       "            width=\"100%\"\n",
       "            height=\"475\"\n",
       "            src=\"http://Jackies-MBP:40000/dtale/iframe/9\"\n",
       "            frameborder=\"0\"\n",
       "            allowfullscreen\n",
       "        ></iframe>\n",
       "        "
      ],
      "text/plain": [
       "<IPython.lib.display.IFrame at 0x7f9a5959a5b0>"
      ]
     },
     "metadata": {},
     "output_type": "display_data"
    },
    {
     "data": {
      "text/plain": []
     },
     "execution_count": 21,
     "metadata": {},
     "output_type": "execute_result"
    }
   ],
   "source": [
    "dtale.show(clean_snp_df, ignore_duplicate=True)"
   ]
  },
  {
   "cell_type": "code",
   "execution_count": 22,
   "metadata": {},
   "outputs": [
    {
     "data": {
      "text/html": [
       "\n",
       "        <iframe\n",
       "            width=\"100%\"\n",
       "            height=\"475\"\n",
       "            src=\"http://Jackies-MBP:40000/dtale/iframe/10\"\n",
       "            frameborder=\"0\"\n",
       "            allowfullscreen\n",
       "        ></iframe>\n",
       "        "
      ],
      "text/plain": [
       "<IPython.lib.display.IFrame at 0x7f9a59e97a60>"
      ]
     },
     "metadata": {},
     "output_type": "display_data"
    },
    {
     "data": {
      "text/plain": []
     },
     "execution_count": 22,
     "metadata": {},
     "output_type": "execute_result"
    }
   ],
   "source": [
    "big_tech_df = clean_snp_df.loc[(clean_snp_df['Company'] == 'FB') | (clean_snp_df['Company'] == 'AMZN') |  \n",
    "                                      (clean_snp_df['Company'] == 'AAPL') | \n",
    "                                      (clean_snp_df['Company'] == 'MSFT') | \n",
    "                                      (clean_snp_df['Company'] ==  'NFLX') | \n",
    "                                      (clean_snp_df['Company'] == 'GOOG')]\n",
    "\n",
    "big_tech_df = big_tech_df.reset_index(drop=True)\n",
    "dtale.show(big_tech_df, ignore_duplicate=True)"
   ]
  },
  {
   "cell_type": "code",
   "execution_count": 23,
   "metadata": {},
   "outputs": [
    {
     "data": {
      "text/html": [
       "\n",
       "        <iframe\n",
       "            width=\"100%\"\n",
       "            height=\"475\"\n",
       "            src=\"http://Jackies-MBP:40000/dtale/iframe/10\"\n",
       "            frameborder=\"0\"\n",
       "            allowfullscreen\n",
       "        ></iframe>\n",
       "        "
      ],
      "text/plain": [
       "<IPython.lib.display.IFrame at 0x7f9a59590040>"
      ]
     },
     "metadata": {},
     "output_type": "display_data"
    },
    {
     "data": {
      "text/plain": []
     },
     "execution_count": 23,
     "metadata": {},
     "output_type": "execute_result"
    }
   ],
   "source": [
    "clean_nasdaq_df = pd.read_csv(base + 'clean_nasdaq_df.csv')\n",
    "clean_nasdaq_df = clean_nasdaq_df.drop(columns='Unnamed: 0')\n",
    "dtale.show(clean_nasdaq_df, ignore_duplicate=True)"
   ]
  },
  {
   "cell_type": "code",
   "execution_count": 24,
   "metadata": {},
   "outputs": [
    {
     "data": {
      "image/png": "[encoded data removed]",
      "text/plain": [
       "<Figure size 1440x720 with 1 Axes>"
      ]
     },
     "metadata": {
      "needs_background": "light"
     },
     "output_type": "display_data"
    }
   ],
   "source": [
    "# EPS growth of S&P portfolio vs. EPS growth of Big Tech Companies\n",
    "# over 3 quarters\n",
    "\n",
    "# create the average EPS growth values for each quarter for NASDAQ, S&P 500, and Big Tech Companies\n",
    "nasdaq_eps_values = [clean_nasdaq_df['Q1 EPS Growth'].mean(), clean_nasdaq_df['Q2 EPS Growth'].mean(), \n",
    "                     clean_nasdaq_df['Q3 EPS Growth'].mean()]\n",
    "\n",
    "snp_eps_values = [clean_snp_df['Q1 EPS Growth'].mean(), clean_snp_df['Q2 EPS Growth'].mean(), \n",
    "                     clean_snp_df['Q3 EPS Growth'].mean()]\n",
    "\n",
    "big_tech_eps_values = [big_tech_df['Q1 EPS Growth'].mean(), big_tech_df['Q2 EPS Growth'].mean(), \n",
    "                         big_tech_df['Q3 EPS Growth'].mean()]\n",
    "\n",
    "quarters = ['Before Pandemic', 'Start of Pandemic', '3 Months into Pandemic']\n",
    "\n",
    "plt.subplots(figsize=(20, 10))\n",
    "plt.plot(quarters, nasdaq_eps_values, label='NASDAQ Average')\n",
    "plt.plot(quarters, snp_eps_values, label='S&P 500 Average')\n",
    "plt.plot(quarters, big_tech_eps_values, label='Big Tech Average')\n",
    "    \n",
    "plt.xlabel('Quarters')\n",
    "plt.ylabel('Earnings Per Share Growth (%)')\n",
    "plt.legend(loc='best')\n",
    "plt.title('Quarterly Earnings Per Share Average Growth (%) Comparison (NASDAQ vs. S&P 500 vs. Big Tech)')\n",
    "\n",
    "plt.savefig('graphs/eps_growth_comparison.png')\n",
    "plt.show()"
   ]
  },
  {
   "cell_type": "code",
   "execution_count": 25,
   "metadata": {},
   "outputs": [
    {
     "data": {
      "image/png": "[encoded data removed]",
      "text/plain": [
       "<Figure size 1440x720 with 1 Axes>"
      ]
     },
     "metadata": {
      "needs_background": "light"
     },
     "output_type": "display_data"
    }
   ],
   "source": [
    "# create the average Operating Income growth values for each quarter for both NASDAQ and S&P 500\n",
    "nasdaq_op_inc_values = [clean_nasdaq_df['Q1 Op Income Growth'].mean(), clean_nasdaq_df['Q2 Op Income Growth'].mean(), \n",
    "                     clean_nasdaq_df['Q3 Op Income Growth'].mean()]\n",
    "\n",
    "snp_op_inc_values = [clean_snp_df['Q1 Op Inc Growth'].mean(), clean_snp_df['Q2 Op Inc Growth'].mean(), \n",
    "                     clean_snp_df['Q3 Op Inc Growth'].mean()]\n",
    "\n",
    "big_tech_op_inc_values = [big_tech_df['Q1 Op Inc Growth'].mean(), big_tech_df['Q2 Op Inc Growth'].mean(), \n",
    "                         big_tech_df['Q3 Op Inc Growth'].mean()]\n",
    "\n",
    "quarters = ['Before Pandemic', 'Start of Pandemic', '3 Months into Pandemic']\n",
    "\n",
    "plt.subplots(figsize=(20, 10))\n",
    "plt.plot(quarters, nasdaq_op_inc_values, label='NASDAQ Average')\n",
    "plt.plot(quarters, snp_op_inc_values, label='S&P 500 Average')\n",
    "plt.plot(quarters, big_tech_op_inc_values, label='Big Tech Average')\n",
    "    \n",
    "plt.xlabel('Quarters')\n",
    "plt.ylabel('Operating Income Growth (%)')\n",
    "plt.legend(loc='best')\n",
    "plt.title('Quarterly Average Operating Income Growth (%) Comparison (NASDAQ vs. S&P 500 vs. Big Tech)')\n",
    "\n",
    "plt.savefig('graphs/op_inc_growth_comparison.png')\n",
    "plt.show()"
   ]
  },
  {
   "cell_type": "code",
   "execution_count": 26,
   "metadata": {},
   "outputs": [
    {
     "data": {
      "text/html": [
       "\n",
       "        <iframe\n",
       "            width=\"100%\"\n",
       "            height=\"475\"\n",
       "            src=\"http://Jackies-MBP:40000/dtale/iframe/10\"\n",
       "            frameborder=\"0\"\n",
       "            allowfullscreen\n",
       "        ></iframe>\n",
       "        "
      ],
      "text/plain": [
       "<IPython.lib.display.IFrame at 0x7f9a59650070>"
      ]
     },
     "metadata": {},
     "output_type": "display_data"
    },
    {
     "data": {
      "text/plain": []
     },
     "execution_count": 26,
     "metadata": {},
     "output_type": "execute_result"
    }
   ],
   "source": [
    "# add price changes as percentage for S&P\n",
    "for index, row in clean_snp_df.iterrows():\n",
    "    clean_snp_df.loc[index, 'Q1 Price Change'] =  100 * (row['Q1 Price'] - row['Q1 Price'])/(row['Q1 Price'])\n",
    "    clean_snp_df.loc[index, 'Q2 Price Change'] =  100 * (row['Q2 Price'] - row['Q1 Price'])/(row['Q1 Price'])\n",
    "    clean_snp_df.loc[index, 'Q3 Price Change'] =  100 * (row['Q3 Price'] - row['Q2 Price'])/(row['Q2 Price'])\n",
    "\n",
    "dtale.show(clean_snp_df, ignore_duplicate=True)"
   ]
  },
  {
   "cell_type": "code",
   "execution_count": 27,
   "metadata": {},
   "outputs": [
    {
     "data": {
      "text/html": [
       "\n",
       "        <iframe\n",
       "            width=\"100%\"\n",
       "            height=\"475\"\n",
       "            src=\"http://Jackies-MBP:40000/dtale/iframe/10\"\n",
       "            frameborder=\"0\"\n",
       "            allowfullscreen\n",
       "        ></iframe>\n",
       "        "
      ],
      "text/plain": [
       "<IPython.lib.display.IFrame at 0x7f9a5a11ce50>"
      ]
     },
     "metadata": {},
     "output_type": "display_data"
    },
    {
     "data": {
      "text/plain": []
     },
     "execution_count": 27,
     "metadata": {},
     "output_type": "execute_result"
    }
   ],
   "source": [
    "# add price changes as percentage for Big Tech\n",
    "for index, row in big_tech_df.iterrows():\n",
    "    big_tech_df.loc[index, 'Q1 Price Change'] =  100 * (row['Q1 Price'] - row['Q1 Price'])/(row['Q1 Price'])\n",
    "    big_tech_df.loc[index, 'Q2 Price Change'] =  100 * (row['Q2 Price'] - row['Q1 Price'])/(row['Q1 Price'])\n",
    "    big_tech_df.loc[index, 'Q3 Price Change'] =  100 * (row['Q3 Price'] - row['Q2 Price'])/(row['Q2 Price'])\n",
    "\n",
    "dtale.show(big_tech_df, ignore_duplicate=True)"
   ]
  },
  {
   "cell_type": "code",
   "execution_count": 28,
   "metadata": {},
   "outputs": [
    {
     "data": {
      "image/png": "[encoded data removed]",
      "text/plain": [
       "<Figure size 1440x720 with 1 Axes>"
      ]
     },
     "metadata": {
      "needs_background": "light"
     },
     "output_type": "display_data"
    }
   ],
   "source": [
    "# Price Changes over 3 quarters: NASDAQ vs. S&P 500 vs. Big Tech\n",
    "nasdaq_price_values = [clean_nasdaq_df['Q1 Price Change'].mean(), clean_nasdaq_df['Q2 Price Change'].mean(), \n",
    "                     clean_nasdaq_df['Q3 Price Change'].mean()]\n",
    "\n",
    "snp_price_values = [clean_snp_df['Q1 Price Change'].mean(), clean_snp_df['Q2 Price Change'].mean(), \n",
    "                     clean_snp_df['Q3 Price Change'].mean()]\n",
    "\n",
    "big_tech_price_values = [big_tech_df['Q1 Price Change'].mean(), big_tech_df['Q2 Price Change'].mean(), \n",
    "                         big_tech_df['Q3 Price Change'].mean()]\n",
    "\n",
    "quarters = ['Before Pandemic', 'Start of Pandemic', '3 Months into Pandemic']\n",
    "\n",
    "plt.subplots(figsize=(20, 10))\n",
    "plt.plot(quarters, nasdaq_price_values, label='NASDAQ Average')\n",
    "plt.plot(quarters, snp_price_values, label='S&P 500 Average')\n",
    "plt.plot(quarters, big_tech_price_values, label='Big Tech Average')\n",
    "    \n",
    "plt.xlabel('Quarters')\n",
    "plt.ylabel('Average Price Change (%)')\n",
    "plt.legend(loc='best')\n",
    "plt.title('Quarterly Average Price Change (%) Comparison (NASDAQ vs. S&P 500 vs. Big Tech)')\n",
    "\n",
    "plt.savefig('graphs/price_change_comparison.png')\n",
    "plt.show()"
   ]
  },
  {
   "cell_type": "code",
   "execution_count": 29,
   "metadata": {},
   "outputs": [],
   "source": [
    "# creating p/e and roe lists\n",
    "\n",
    "q1_pe = big_tech_df[\"Q1 P/E\"].to_list()\n",
    "q2_pe = big_tech_df[\"Q2 P/E\"].to_list()\n",
    "q3_pe = big_tech_df[\"Q3 P/E\"].to_list()\n",
    "\n",
    "q1_rev = big_tech_df[\"Q1 Rev Growth\"].to_list()\n",
    "q2_rev = big_tech_df[\"Q2 Rev Growth\"].to_list()\n",
    "q3_rev = big_tech_df[\"Q3 Rev Growth\"].to_list()\n",
    "\n",
    "final_pe = q1_pe + q2_pe + q3_pe\n",
    "final_rev = q1_rev + q1_rev + q1_rev"
   ]
  },
  {
   "cell_type": "code",
   "execution_count": 30,
   "metadata": {},
   "outputs": [
    {
     "data": {
      "image/png": "[encoded data removed]",
      "text/plain": [
       "<Figure size 1080x720 with 1 Axes>"
      ]
     },
     "metadata": {
      "needs_background": "light"
     },
     "output_type": "display_data"
    },
    {
     "name": "stdout",
     "output_type": "stream",
     "text": [
      "The rvalue is: -0.24962678037776434\n"
     ]
    }
   ],
   "source": [
    "x_values = np.array(final_pe)\n",
    "y_values = np.array(final_rev)\n",
    "\n",
    "(slope, intercept, rvalue, pvalue, stderr) = linregress(x_values, y_values)\n",
    "regress_values = x_values * slope + intercept\n",
    "line_eq = \"y = \" + str(round(slope,2)) + \"x + \" + str(round(intercept,2))\n",
    "\n",
    "plt.subplots(figsize=(15,10))\n",
    "plt.scatter(x_values, y_values, edgecolors=\"black\", facecolors=\"blue\")\n",
    "plt.plot(x_values, regress_values, \"r--\")\n",
    "plt.annotate(line_eq,(200, 0.30),fontsize=15, color=\"red\")\n",
    "plt.xlabel(\"P/E\")\n",
    "plt.ylabel(\"Revenue Growth\")\n",
    "plt.title(\"Price to Earnings (P/E) vs. Revenue Growth (%)\")\n",
    "\n",
    "plt.savefig(\"graphs/pe_rev_growth_snp.png\")\n",
    "plt.show()\n",
    "print(f\"The rvalue is: {rvalue}\")"
   ]
  },
  {
   "cell_type": "code",
   "execution_count": 31,
   "metadata": {},
   "outputs": [
    {
     "name": "stdout",
     "output_type": "stream",
     "text": [
      "9.8\n"
     ]
    }
   ],
   "source": [
    "q1_ROE_nasdaq = clean_nasdaq_df[\"Q1 ROE\"].to_list() \n",
    "avg_roe_q1 = round(sum(q1_ROE_nasdaq) / len(q1_ROE_nasdaq) * 100, 2)\n",
    "\n",
    "q2_ROE_nasdaq = clean_nasdaq_df[\"Q2 ROE\"].to_list()\n",
    "avg_roe_q2 = round(sum(q2_ROE_nasdaq) / len(q2_ROE_nasdaq) * 100, 2)\n",
    "\n",
    "q3_ROE_nasdaq = clean_nasdaq_df[\"Q3 ROE\"].to_list()\n",
    "avg_roe_q3 = round(sum(q3_ROE_nasdaq) / len(q3_ROE_nasdaq) * 100, 2)\n",
    "\n",
    "# S&P ROE \n",
    "\n",
    "q1_ROE_snp = clean_snp_df[\"Q1 ROE\"].to_list()\n",
    "avg_roe_q1_snp = round(sum(q1_ROE_snp) / len(q1_ROE_snp) * 100, 2)\n",
    "\n",
    "q2_ROE_snp = clean_snp_df[\"Q2 ROE\"].to_list()\n",
    "avg_roe_q2_snp = round(sum(q2_ROE_snp) / len(q2_ROE_snp) * 100, 2)\n",
    "\n",
    "q3_ROE_snp = clean_snp_df[\"Q3 ROE\"].to_list()\n",
    "avg_roe_q3_snp = round(sum(q3_ROE_snp) / len(q3_ROE_snp) * 100, 2)\n",
    "\n",
    "# BIG TECH ROE\n",
    "\n",
    "big_tech_q1 = big_tech_df[\"Q1 ROE\"].to_list()\n",
    "big_tech_q1_avg = round(sum(big_tech_q1) / len(big_tech_q1) * 100, 2)\n",
    "\n",
    "big_tech_q2 = big_tech_df[\"Q2 ROE\"].to_list()\n",
    "big_tech_q2_avg = round(sum(big_tech_q2) / len(big_tech_q2) * 100, 2)\n",
    "\n",
    "big_tech_q3 = big_tech_df[\"Q3 ROE\"].to_list()\n",
    "big_tech_q3_avg = round(sum(big_tech_q3) / len(big_tech_q3) * 100, 2)\n",
    "print(avg_roe_q3)"
   ]
  },
  {
   "cell_type": "code",
   "execution_count": 32,
   "metadata": {},
   "outputs": [
    {
     "data": {
      "image/png": "[encoded data removed]",
      "text/plain": [
       "<Figure size 1440x720 with 1 Axes>"
      ]
     },
     "metadata": {
      "needs_background": "light"
     },
     "output_type": "display_data"
    }
   ],
   "source": [
    "q1_snp = np.array([avg_roe_q1_snp, avg_roe_q2_snp, avg_roe_q3_snp])\n",
    "q1_nasdaq = np.array([avg_roe_q1, avg_roe_q2, avg_roe_q3])\n",
    "q1_tech = np.array([big_tech_q1_avg, big_tech_q2_avg, big_tech_q3_avg])\n",
    "\n",
    "barWidth = 0.25\n",
    "labels = [\"Q1\", \"Q2\", \"Q3\"]\n",
    "\n",
    "x_axis = np.arange(len(labels))\n",
    "#ig, ax = plt.subplots()\n",
    "\n",
    "\n",
    "r1 = np.arange(len(x_axis))\n",
    "r2 = [x + barWidth for x in r1]\n",
    "r3 = [x + barWidth for x in r2]\n",
    "\n",
    "plt.subplots(figsize=(20,10))\n",
    "plt.bar(r1, q1_snp, color='blue', width=barWidth, edgecolor='white', label='S&P 500 AVG.')\n",
    "plt.bar(r2, q1_nasdaq, color='green', width=barWidth, edgecolor='white', label='NASDAQ AVG.')\n",
    "plt.bar(r3, q1_tech, color='purple', width=barWidth, edgecolor='white', label='BIG TECH AVG.')\n",
    "plt.xticks([r + barWidth for r in range(len(labels))], [\"Before Pandemic (Q1)\", \"Start of Pandemic (Q2)\",\n",
    "                                                        \"3 Months into Pandemic (Q3)\"])\n",
    "plt.xlabel(\"Quarters\")\n",
    "plt.ylabel(\"Return on Equity (%)\")\n",
    "plt.title(\"Quarterly ROE (%) Comparison (NASDAQ VS. S&P 500 VS. BIG TECH)\")\n",
    "plt.legend(loc=\"best\")\n",
    "plt.savefig(\"graphs/quarterly_roe_comparison.png\")\n",
    "plt.show()"
   ]
  },
  {
   "cell_type": "code",
   "execution_count": 34,
   "metadata": {},
   "outputs": [
    {
     "data": {
      "text/html": [
       "\n",
       "        <iframe\n",
       "            width=\"100%\"\n",
       "            height=\"475\"\n",
       "            src=\"http://Jackies-MBP:40000/dtale/iframe/10\"\n",
       "            frameborder=\"0\"\n",
       "            allowfullscreen\n",
       "        ></iframe>\n",
       "        "
      ],
      "text/plain": [
       "<IPython.lib.display.IFrame at 0x7f9a5a87d910>"
      ]
     },
     "metadata": {},
     "output_type": "display_data"
    },
    {
     "data": {
      "text/plain": []
     },
     "execution_count": 34,
     "metadata": {},
     "output_type": "execute_result"
    }
   ],
   "source": [
    "dtale.show(clean_snp_df)"
   ]
  },
  {
   "cell_type": "code",
   "execution_count": 117,
   "metadata": {},
   "outputs": [
    {
     "data": {
      "text/plain": [
       "array([-0.34550657, -0.0969018 ,  0.19205514, -3.73101542,  0.32106364,\n",
       "        0.23760977, -0.14663559,  0.99019168,  0.59896658, -0.99847812,\n",
       "        0.23517749])"
      ]
     },
     "execution_count": 117,
     "metadata": {},
     "output_type": "execute_result"
    }
   ],
   "source": [
    "import statistics\n",
    "\n",
    "clean_snp_df.loc[:, [\"Sector\", \"Q3 Op Inc Growth\"]].head()\n",
    "\n",
    "new_df = clean_snp_df.loc[:, [\"Sector\", \"Q3 Op Inc Growth\"]]\n",
    "grouped_df = new_df.groupby(['Sector']).mean()\n",
    "grouped_df = grouped_df.reset_index()\n",
    "grouped_df = grouped_df.loc[:, [\"Sector\", \"Q3 Op Inc Growth\"]]\n",
    "grouped_df\n",
    "\n",
    "\n",
    "sector_lst = grouped_df[\"Sector\"].to_list()\n",
    "\n",
    "sector_op_inc = grouped_df[\"Q3 Op Inc Growth\"].to_list()\n",
    "nasdaq_op_inc = clean_nasdaq_df[\"Q3 Op Income Growth\"].to_list()\n",
    "snp_op_inc = clean_snp_df[\"Q3 Op Inc Growth\"].to_list()\n",
    "\n",
    "sector_avg = np.array(sector_op_inc)\n",
    "nasdaq_avg = np.array(statistics.mean(nasdaq_op_inc)*100)\n",
    "snp_avg = np.array(statistics.mean(snp_op_inc)*100)\n",
    "\n",
    "\n",
    "\n",
    "sector_avg"
   ]
  },
  {
   "cell_type": "code",
   "execution_count": 129,
   "metadata": {},
   "outputs": [
    {
     "data": {
      "image/png": "[encoded data removed]",
      "text/plain": [
       "<Figure size 1440x720 with 1 Axes>"
      ]
     },
     "metadata": {
      "needs_background": "light"
     },
     "output_type": "display_data"
    }
   ],
   "source": [
    "#barWidth = 0.25\n",
    "#labels = ['Communication Services', 'Consumer Discretionary', 'Consumer Staples', 'Energy', 'Financials',\n",
    "#'Health Care', 'Industrials', 'Information Technology', 'Materials', 'Real Estate', 'Utilities']\n",
    "#x_axis = np.arange(len(labels))\n",
    "#ig, ax = plt.subplots()\n",
    "\n",
    "\n",
    "barWidth = 0.25\n",
    "labels = [\"Q1\", \"Q2\", \"Q3\"]\n",
    "\n",
    "x_axis = np.arange(len(labels))\n",
    "#ig, ax = plt.subplots()\n",
    "\n",
    "\n",
    "r1 = 0\n",
    "r2 = r1 + barWidth\n",
    "r3 = r2 + barWidth\n",
    "r4 = r3 + barWidth\n",
    "r5 = r4 + barWidth\n",
    "r6 = r5 + barWidth\n",
    "r7 = r6 + barWidth\n",
    "r8 = r7 + barWidth\n",
    "r9 = r8 + barWidth\n",
    "r10 = r9 + barWidth\n",
    "r11 = r10 + barWidth\n",
    "\n",
    "\n",
    "plt.subplots(figsize=(20,10))\n",
    "plt.bar(r1, sector_avg[0], color='aquamarine', width=barWidth, edgecolor='white', label='Comm. services')\n",
    "plt.bar(r2, sector_avg[1], color='cornflowerblue', width=barWidth, edgecolor='white', label='Consumer Discretionary')\n",
    "plt.bar(r3, sector_avg[2], color='violet', width=barWidth, edgecolor='white', label='Consumer Staples')\n",
    "plt.bar(r4, sector_avg[3], color='orange', width=barWidth, edgecolor='white', label='Energy')\n",
    "plt.bar(r5, sector_avg[4], color='bisque', width=barWidth, edgecolor='white', label='Financials')\n",
    "plt.bar(r6, sector_avg[5], color='pink', width=barWidth, edgecolor='white', label='Health Care')\n",
    "plt.bar(r7, sector_avg[6], color='aqua', width=barWidth, edgecolor='white', label='Industrials')\n",
    "plt.bar(r8, sector_avg[7], color='plum', width=barWidth, edgecolor='white', label='Info Tech')\n",
    "plt.bar(r9, sector_avg[8], color='slateblue', width=barWidth, edgecolor='white', label='Materials')\n",
    "plt.bar(r10, sector_avg[9], color='deepskyblue', width=barWidth, edgecolor='white', label='Real Estate')\n",
    "plt.bar(r11, sector_avg[10], color='lightgreen', width=barWidth, edgecolor='white', label='Utilities')\n",
    "#plt.bar(r2, snp_avg, color='blue', width=barWidth, edgecolor='red', label='S&P AVG.')\n",
    "#plt.bar(r3, nasdaq_avg, color='green', width=barWidth, edgecolor='green', label='S&P AVG.')\n",
    "\n",
    "plt.xticks([r + barWidth for r in range(len(labels))], [\"\"])\n",
    "\n",
    "plt.ylabel(\"Operating Income Growth (%)\")\n",
    "plt.title(\"Q3 OPERATING INCOME GROWTH PER SECTOR\")\n",
    "plt.legend(loc=\"best\")\n",
    "plt.savefig(\"graphs/op_in_growth.png\")\n",
    "plt.show()\n"
   ]
  },
  {
   "cell_type": "code",
   "execution_count": null,
   "metadata": {},
   "outputs": [],
   "source": []
  }
 ],
 "metadata": {
  "kernelspec": {
   "display_name": "Python 3",
   "language": "python",
   "name": "python3"
  },
  "language_info": {
   "codemirror_mode": {
    "name": "ipython",
    "version": 3
   },
   "file_extension": ".py",
   "mimetype": "text/x-python",
   "name": "python",
   "nbconvert_exporter": "python",
   "pygments_lexer": "ipython3",
   "version": "3.8.3"
  }
 },
 "nbformat": 4,
 "nbformat_minor": 4
}
