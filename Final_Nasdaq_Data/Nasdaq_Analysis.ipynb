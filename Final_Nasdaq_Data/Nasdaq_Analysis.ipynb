{
 "cells": [
  {
   "cell_type": "code",
   "execution_count": 1,
   "metadata": {},
   "outputs": [
    {
     "name": "stdout",
     "output_type": "stream",
     "text": [
      "Requirement already satisfied: dtale in /Users/jackieyi/opt/anaconda3/lib/python3.8/site-packages (1.19.0)\n",
      "Requirement already satisfied: scipy in /Users/jackieyi/opt/anaconda3/lib/python3.8/site-packages (from dtale) (1.5.0)\n",
      "Requirement already satisfied: dash-bootstrap-components; python_version > \"3.0\" in /Users/jackieyi/opt/anaconda3/lib/python3.8/site-packages (from dtale) (0.10.7)\n",
      "Requirement already satisfied: six in /Users/jackieyi/opt/anaconda3/lib/python3.8/site-packages (from dtale) (1.15.0)\n",
      "Requirement already satisfied: itsdangerous in /Users/jackieyi/opt/anaconda3/lib/python3.8/site-packages (from dtale) (1.1.0)\n",
      "Requirement already satisfied: scikit-learn>='0.21.0 in /Users/jackieyi/opt/anaconda3/lib/python3.8/site-packages (from dtale) (0.23.1)\n",
      "Requirement already satisfied: lz4; python_version > \"3.0\" in /Users/jackieyi/opt/anaconda3/lib/python3.8/site-packages (from dtale) (3.1.0)\n",
      "Requirement already satisfied: requests in /Users/jackieyi/opt/anaconda3/lib/python3.8/site-packages (from dtale) (2.24.0)\n",
      "Requirement already satisfied: xarray in /Users/jackieyi/opt/anaconda3/lib/python3.8/site-packages (from dtale) (0.16.1)\n",
      "Requirement already satisfied: Flask-Compress in /Users/jackieyi/opt/anaconda3/lib/python3.8/site-packages (from dtale) (1.7.0)\n",
      "Requirement already satisfied: strsimpy in /Users/jackieyi/opt/anaconda3/lib/python3.8/site-packages (from dtale) (0.1.9)\n",
      "Requirement already satisfied: flask-ngrok; python_version > \"3.0\" in /Users/jackieyi/opt/anaconda3/lib/python3.8/site-packages (from dtale) (0.0.25)\n",
      "Requirement already satisfied: statsmodels in /Users/jackieyi/opt/anaconda3/lib/python3.8/site-packages (from dtale) (0.11.1)\n",
      "Requirement already satisfied: future>=0.14.0 in /Users/jackieyi/opt/anaconda3/lib/python3.8/site-packages (from dtale) (0.18.2)\n",
      "Requirement already satisfied: dash-colorscales in /Users/jackieyi/opt/anaconda3/lib/python3.8/site-packages (from dtale) (0.0.4)\n",
      "Requirement already satisfied: dash-daq in /Users/jackieyi/opt/anaconda3/lib/python3.8/site-packages (from dtale) (0.5.0)\n",
      "Requirement already satisfied: squarify in /Users/jackieyi/opt/anaconda3/lib/python3.8/site-packages (from dtale) (0.4.3)\n",
      "Requirement already satisfied: dash>=1.5.0 in /Users/jackieyi/opt/anaconda3/lib/python3.8/site-packages (from dtale) (1.16.3)\n",
      "Requirement already satisfied: pandas in /Users/jackieyi/opt/anaconda3/lib/python3.8/site-packages (from dtale) (1.0.5)\n",
      "Requirement already satisfied: Flask>=1.0 in /Users/jackieyi/opt/anaconda3/lib/python3.8/site-packages (from dtale) (1.1.2)\n",
      "Requirement already satisfied: numpy>=1.14.5 in /Users/jackieyi/opt/anaconda3/lib/python3.8/site-packages (from scipy->dtale) (1.18.5)\n",
      "Requirement already satisfied: threadpoolctl>=2.0.0 in /Users/jackieyi/opt/anaconda3/lib/python3.8/site-packages (from scikit-learn>='0.21.0->dtale) (2.1.0)\n",
      "Requirement already satisfied: joblib>=0.11 in /Users/jackieyi/opt/anaconda3/lib/python3.8/site-packages (from scikit-learn>='0.21.0->dtale) (0.16.0)\n",
      "Requirement already satisfied: idna<3,>=2.5 in /Users/jackieyi/opt/anaconda3/lib/python3.8/site-packages (from requests->dtale) (2.10)\n",
      "Requirement already satisfied: chardet<4,>=3.0.2 in /Users/jackieyi/opt/anaconda3/lib/python3.8/site-packages (from requests->dtale) (3.0.4)\n",
      "Requirement already satisfied: certifi>=2017.4.17 in /Users/jackieyi/opt/anaconda3/lib/python3.8/site-packages (from requests->dtale) (2020.6.20)\n",
      "Requirement already satisfied: urllib3!=1.25.0,!=1.25.1,<1.26,>=1.21.1 in /Users/jackieyi/opt/anaconda3/lib/python3.8/site-packages (from requests->dtale) (1.25.9)\n",
      "Requirement already satisfied: setuptools>=38.4 in /Users/jackieyi/opt/anaconda3/lib/python3.8/site-packages (from xarray->dtale) (49.2.0.post20200714)\n",
      "Requirement already satisfied: brotli in /Users/jackieyi/opt/anaconda3/lib/python3.8/site-packages (from Flask-Compress->dtale) (1.0.9)\n",
      "Requirement already satisfied: patsy>=0.5 in /Users/jackieyi/opt/anaconda3/lib/python3.8/site-packages (from statsmodels->dtale) (0.5.1)\n",
      "Requirement already satisfied: dash-core-components==1.12.1 in /Users/jackieyi/opt/anaconda3/lib/python3.8/site-packages (from dash>=1.5.0->dtale) (1.12.1)\n",
      "Requirement already satisfied: dash-renderer==1.8.2 in /Users/jackieyi/opt/anaconda3/lib/python3.8/site-packages (from dash>=1.5.0->dtale) (1.8.2)\n",
      "Requirement already satisfied: dash-html-components==1.1.1 in /Users/jackieyi/opt/anaconda3/lib/python3.8/site-packages (from dash>=1.5.0->dtale) (1.1.1)\n",
      "Requirement already satisfied: dash-table==4.10.1 in /Users/jackieyi/opt/anaconda3/lib/python3.8/site-packages (from dash>=1.5.0->dtale) (4.10.1)\n",
      "Requirement already satisfied: plotly in /Users/jackieyi/opt/anaconda3/lib/python3.8/site-packages (from dash>=1.5.0->dtale) (4.12.0)\n",
      "Requirement already satisfied: pytz>=2017.2 in /Users/jackieyi/opt/anaconda3/lib/python3.8/site-packages (from pandas->dtale) (2020.1)\n",
      "Requirement already satisfied: python-dateutil>=2.6.1 in /Users/jackieyi/opt/anaconda3/lib/python3.8/site-packages (from pandas->dtale) (2.8.1)\n",
      "Requirement already satisfied: Werkzeug>=0.15 in /Users/jackieyi/opt/anaconda3/lib/python3.8/site-packages (from Flask>=1.0->dtale) (1.0.1)\n",
      "Requirement already satisfied: click>=5.1 in /Users/jackieyi/opt/anaconda3/lib/python3.8/site-packages (from Flask>=1.0->dtale) (7.1.2)\n",
      "Requirement already satisfied: Jinja2>=2.10.1 in /Users/jackieyi/opt/anaconda3/lib/python3.8/site-packages (from Flask>=1.0->dtale) (2.11.2)\n",
      "Requirement already satisfied: retrying>=1.3.3 in /Users/jackieyi/opt/anaconda3/lib/python3.8/site-packages (from plotly->dash>=1.5.0->dtale) (1.3.3)\n",
      "Requirement already satisfied: MarkupSafe>=0.23 in /Users/jackieyi/opt/anaconda3/lib/python3.8/site-packages (from Jinja2>=2.10.1->Flask>=1.0->dtale) (1.1.1)\n",
      "Note: you may need to restart the kernel to use updated packages.\n"
     ]
    }
   ],
   "source": [
    "pip install dtale"
   ]
  },
  {
   "cell_type": "code",
   "execution_count": 59,
   "metadata": {},
   "outputs": [],
   "source": [
    "import pandas as pd\n",
    "import matplotlib.pyplot as plt\n",
    "import numpy as np\n",
    "import os\n",
    "import dtale\n",
    "from scipy.stats import linregress\n",
    "from scipy import stats\n",
    "from matplotlib.pyplot import figure"
   ]
  },
  {
   "cell_type": "code",
   "execution_count": 2,
   "metadata": {},
   "outputs": [
    {
     "data": {
      "text/html": [
       "<div>\n",
       "<style scoped>\n",
       "    .dataframe tbody tr th:only-of-type {\n",
       "        vertical-align: middle;\n",
       "    }\n",
       "\n",
       "    .dataframe tbody tr th {\n",
       "        vertical-align: top;\n",
       "    }\n",
       "\n",
       "    .dataframe thead th {\n",
       "        text-align: right;\n",
       "    }\n",
       "</style>\n",
       "<table border=\"1\" class=\"dataframe\">\n",
       "  <thead>\n",
       "    <tr style=\"text-align: right;\">\n",
       "      <th></th>\n",
       "      <th>Company</th>\n",
       "      <th>Q1 Date</th>\n",
       "      <th>Q1 Price</th>\n",
       "      <th>Q2 Date</th>\n",
       "      <th>Q2 Price</th>\n",
       "      <th>Q3 Date</th>\n",
       "      <th>Q3 Price</th>\n",
       "    </tr>\n",
       "  </thead>\n",
       "  <tbody>\n",
       "    <tr>\n",
       "      <th>0</th>\n",
       "      <td>DOCU</td>\n",
       "      <td>2020-01-31</td>\n",
       "      <td>78.5100</td>\n",
       "      <td>2020-04-30</td>\n",
       "      <td>104.7500</td>\n",
       "      <td>2020-07-31</td>\n",
       "      <td>216.830000</td>\n",
       "    </tr>\n",
       "    <tr>\n",
       "      <th>1</th>\n",
       "      <td>ZM</td>\n",
       "      <td>2020-01-31</td>\n",
       "      <td>76.3000</td>\n",
       "      <td>2020-04-30</td>\n",
       "      <td>135.1700</td>\n",
       "      <td>2020-07-31</td>\n",
       "      <td>253.910000</td>\n",
       "    </tr>\n",
       "    <tr>\n",
       "      <th>2</th>\n",
       "      <td>DXCM</td>\n",
       "      <td>2019-12-31</td>\n",
       "      <td>218.7400</td>\n",
       "      <td>2020-03-31</td>\n",
       "      <td>269.2700</td>\n",
       "      <td>2020-06-30</td>\n",
       "      <td>405.400000</td>\n",
       "    </tr>\n",
       "    <tr>\n",
       "      <th>3</th>\n",
       "      <td>SPLK</td>\n",
       "      <td>2020-01-31</td>\n",
       "      <td>155.2600</td>\n",
       "      <td>2020-04-30</td>\n",
       "      <td>140.3600</td>\n",
       "      <td>2020-07-31</td>\n",
       "      <td>209.820000</td>\n",
       "    </tr>\n",
       "    <tr>\n",
       "      <th>4</th>\n",
       "      <td>SGEN</td>\n",
       "      <td>2019-12-31</td>\n",
       "      <td>114.2600</td>\n",
       "      <td>2020-03-31</td>\n",
       "      <td>115.3800</td>\n",
       "      <td>2020-06-30</td>\n",
       "      <td>169.920000</td>\n",
       "    </tr>\n",
       "    <tr>\n",
       "      <th>...</th>\n",
       "      <td>...</td>\n",
       "      <td>...</td>\n",
       "      <td>...</td>\n",
       "      <td>...</td>\n",
       "      <td>...</td>\n",
       "      <td>...</td>\n",
       "      <td>...</td>\n",
       "    </tr>\n",
       "    <tr>\n",
       "      <th>98</th>\n",
       "      <td>NVDA</td>\n",
       "      <td>2020-01-26</td>\n",
       "      <td>NaN</td>\n",
       "      <td>2020-04-26</td>\n",
       "      <td>NaN</td>\n",
       "      <td>2020-07-26</td>\n",
       "      <td>NaN</td>\n",
       "    </tr>\n",
       "    <tr>\n",
       "      <th>99</th>\n",
       "      <td>PAYX</td>\n",
       "      <td>2020-02-29</td>\n",
       "      <td>NaN</td>\n",
       "      <td>2020-05-31</td>\n",
       "      <td>NaN</td>\n",
       "      <td>2020-08-31</td>\n",
       "      <td>76.470001</td>\n",
       "    </tr>\n",
       "    <tr>\n",
       "      <th>100</th>\n",
       "      <td>KLAC</td>\n",
       "      <td>2019-12-31</td>\n",
       "      <td>175.6855</td>\n",
       "      <td>2020-03-31</td>\n",
       "      <td>142.4356</td>\n",
       "      <td>2020-06-30</td>\n",
       "      <td>193.646300</td>\n",
       "    </tr>\n",
       "    <tr>\n",
       "      <th>101</th>\n",
       "      <td>CSCO</td>\n",
       "      <td>2020-01-25</td>\n",
       "      <td>NaN</td>\n",
       "      <td>2020-04-25</td>\n",
       "      <td>NaN</td>\n",
       "      <td>2020-07-25</td>\n",
       "      <td>NaN</td>\n",
       "    </tr>\n",
       "    <tr>\n",
       "      <th>102</th>\n",
       "      <td>ADSK</td>\n",
       "      <td>2020-01-31</td>\n",
       "      <td>196.8500</td>\n",
       "      <td>2020-04-30</td>\n",
       "      <td>187.1300</td>\n",
       "      <td>2020-07-31</td>\n",
       "      <td>236.430000</td>\n",
       "    </tr>\n",
       "  </tbody>\n",
       "</table>\n",
       "<p>103 rows × 7 columns</p>\n",
       "</div>"
      ],
      "text/plain": [
       "    Company     Q1 Date  Q1 Price     Q2 Date  Q2 Price     Q3 Date  \\\n",
       "0      DOCU  2020-01-31   78.5100  2020-04-30  104.7500  2020-07-31   \n",
       "1        ZM  2020-01-31   76.3000  2020-04-30  135.1700  2020-07-31   \n",
       "2      DXCM  2019-12-31  218.7400  2020-03-31  269.2700  2020-06-30   \n",
       "3      SPLK  2020-01-31  155.2600  2020-04-30  140.3600  2020-07-31   \n",
       "4      SGEN  2019-12-31  114.2600  2020-03-31  115.3800  2020-06-30   \n",
       "..      ...         ...       ...         ...       ...         ...   \n",
       "98     NVDA  2020-01-26       NaN  2020-04-26       NaN  2020-07-26   \n",
       "99     PAYX  2020-02-29       NaN  2020-05-31       NaN  2020-08-31   \n",
       "100    KLAC  2019-12-31  175.6855  2020-03-31  142.4356  2020-06-30   \n",
       "101    CSCO  2020-01-25       NaN  2020-04-25       NaN  2020-07-25   \n",
       "102    ADSK  2020-01-31  196.8500  2020-04-30  187.1300  2020-07-31   \n",
       "\n",
       "       Q3 Price  \n",
       "0    216.830000  \n",
       "1    253.910000  \n",
       "2    405.400000  \n",
       "3    209.820000  \n",
       "4    169.920000  \n",
       "..          ...  \n",
       "98          NaN  \n",
       "99    76.470001  \n",
       "100  193.646300  \n",
       "101         NaN  \n",
       "102  236.430000  \n",
       "\n",
       "[103 rows x 7 columns]"
      ]
     },
     "execution_count": 2,
     "metadata": {},
     "output_type": "execute_result"
    }
   ],
   "source": [
    "base = '../output/'\n",
    "\n",
    "historical_prices_df = pd.read_csv(base + 'nasdaq_historical_prices.csv')\n",
    "historical_prices_df = historical_prices_df.drop(columns='Unnamed: 0')\n",
    "historical_prices_df"
   ]
  },
  {
   "cell_type": "code",
   "execution_count": 3,
   "metadata": {},
   "outputs": [
    {
     "data": {
      "text/html": [
       "<div>\n",
       "<style scoped>\n",
       "    .dataframe tbody tr th:only-of-type {\n",
       "        vertical-align: middle;\n",
       "    }\n",
       "\n",
       "    .dataframe tbody tr th {\n",
       "        vertical-align: top;\n",
       "    }\n",
       "\n",
       "    .dataframe thead th {\n",
       "        text-align: right;\n",
       "    }\n",
       "</style>\n",
       "<table border=\"1\" class=\"dataframe\">\n",
       "  <thead>\n",
       "    <tr style=\"text-align: right;\">\n",
       "      <th></th>\n",
       "      <th>Company</th>\n",
       "      <th>Q1 P/E</th>\n",
       "      <th>Q2 P/E</th>\n",
       "      <th>Q3 P/E</th>\n",
       "      <th>Q1 ROE</th>\n",
       "      <th>Q2 ROE</th>\n",
       "      <th>Q3 ROE</th>\n",
       "      <th>Q1 Date</th>\n",
       "      <th>Q2 Date</th>\n",
       "      <th>Q3 Date</th>\n",
       "    </tr>\n",
       "  </thead>\n",
       "  <tbody>\n",
       "    <tr>\n",
       "      <th>0</th>\n",
       "      <td>DOCU</td>\n",
       "      <td>-299.597287</td>\n",
       "      <td>-400.948571</td>\n",
       "      <td>-620.874031</td>\n",
       "      <td>-0.086774</td>\n",
       "      <td>-0.091441</td>\n",
       "      <td>-0.128634</td>\n",
       "      <td>2020-01-31</td>\n",
       "      <td>2020-04-30</td>\n",
       "      <td>2020-07-31</td>\n",
       "    </tr>\n",
       "    <tr>\n",
       "      <th>1</th>\n",
       "      <td>ZM</td>\n",
       "      <td>1191.100353</td>\n",
       "      <td>1473.689789</td>\n",
       "      <td>405.682498</td>\n",
       "      <td>0.018393</td>\n",
       "      <td>0.030029</td>\n",
       "      <td>0.155144</td>\n",
       "      <td>2020-01-31</td>\n",
       "      <td>2020-04-30</td>\n",
       "      <td>2020-07-31</td>\n",
       "    </tr>\n",
       "    <tr>\n",
       "      <th>2</th>\n",
       "      <td>DXCM</td>\n",
       "      <td>218.504035</td>\n",
       "      <td>1273.281759</td>\n",
       "      <td>849.326134</td>\n",
       "      <td>0.105031</td>\n",
       "      <td>0.021295</td>\n",
       "      <td>0.034198</td>\n",
       "      <td>2019-12-31</td>\n",
       "      <td>2020-03-31</td>\n",
       "      <td>2020-06-30</td>\n",
       "    </tr>\n",
       "    <tr>\n",
       "      <th>3</th>\n",
       "      <td>SPLK</td>\n",
       "      <td>-1064.434087</td>\n",
       "      <td>-72.359266</td>\n",
       "      <td>-127.625338</td>\n",
       "      <td>-0.011367</td>\n",
       "      <td>-0.168823</td>\n",
       "      <td>-0.156529</td>\n",
       "      <td>2020-01-31</td>\n",
       "      <td>2020-04-30</td>\n",
       "      <td>2020-07-31</td>\n",
       "    </tr>\n",
       "    <tr>\n",
       "      <th>4</th>\n",
       "      <td>SGEN</td>\n",
       "      <td>759.556952</td>\n",
       "      <td>-118.084957</td>\n",
       "      <td>-1390.521355</td>\n",
       "      <td>0.013767</td>\n",
       "      <td>-0.095379</td>\n",
       "      <td>-0.011681</td>\n",
       "      <td>2019-12-31</td>\n",
       "      <td>2020-03-31</td>\n",
       "      <td>2020-06-30</td>\n",
       "    </tr>\n",
       "    <tr>\n",
       "      <th>...</th>\n",
       "      <td>...</td>\n",
       "      <td>...</td>\n",
       "      <td>...</td>\n",
       "      <td>...</td>\n",
       "      <td>...</td>\n",
       "      <td>...</td>\n",
       "      <td>...</td>\n",
       "      <td>...</td>\n",
       "      <td>...</td>\n",
       "      <td>...</td>\n",
       "    </tr>\n",
       "    <tr>\n",
       "      <th>98</th>\n",
       "      <td>NVDA</td>\n",
       "      <td>156.637749</td>\n",
       "      <td>201.356865</td>\n",
       "      <td>419.415270</td>\n",
       "      <td>0.077925</td>\n",
       "      <td>0.070005</td>\n",
       "      <td>0.044703</td>\n",
       "      <td>2020-01-26</td>\n",
       "      <td>2020-04-26</td>\n",
       "      <td>2020-07-26</td>\n",
       "    </tr>\n",
       "    <tr>\n",
       "      <th>99</th>\n",
       "      <td>PAYX</td>\n",
       "      <td>77.441170</td>\n",
       "      <td>116.583405</td>\n",
       "      <td>130.569997</td>\n",
       "      <td>0.128451</td>\n",
       "      <td>0.079349</td>\n",
       "      <td>0.076153</td>\n",
       "      <td>2020-02-29</td>\n",
       "      <td>2020-05-31</td>\n",
       "      <td>2020-08-31</td>\n",
       "    </tr>\n",
       "    <tr>\n",
       "      <th>100</th>\n",
       "      <td>KLAC</td>\n",
       "      <td>73.227875</td>\n",
       "      <td>285.357774</td>\n",
       "      <td>73.578936</td>\n",
       "      <td>0.142543</td>\n",
       "      <td>0.034000</td>\n",
       "      <td>0.154292</td>\n",
       "      <td>2019-12-31</td>\n",
       "      <td>2020-03-31</td>\n",
       "      <td>2020-06-30</td>\n",
       "    </tr>\n",
       "    <tr>\n",
       "      <th>101</th>\n",
       "      <td>CSCO</td>\n",
       "      <td>71.068582</td>\n",
       "      <td>64.528627</td>\n",
       "      <td>74.669499</td>\n",
       "      <td>0.080995</td>\n",
       "      <td>0.077686</td>\n",
       "      <td>0.069515</td>\n",
       "      <td>2020-01-25</td>\n",
       "      <td>2020-04-25</td>\n",
       "      <td>2020-07-25</td>\n",
       "    </tr>\n",
       "    <tr>\n",
       "      <th>102</th>\n",
       "      <td>ADSK</td>\n",
       "      <td>334.107322</td>\n",
       "      <td>622.734872</td>\n",
       "      <td>534.977047</td>\n",
       "      <td>-0.947520</td>\n",
       "      <td>-0.478073</td>\n",
       "      <td>1.459138</td>\n",
       "      <td>2020-01-31</td>\n",
       "      <td>2020-04-30</td>\n",
       "      <td>2020-07-31</td>\n",
       "    </tr>\n",
       "  </tbody>\n",
       "</table>\n",
       "<p>103 rows × 10 columns</p>\n",
       "</div>"
      ],
      "text/plain": [
       "    Company       Q1 P/E       Q2 P/E       Q3 P/E    Q1 ROE    Q2 ROE  \\\n",
       "0      DOCU  -299.597287  -400.948571  -620.874031 -0.086774 -0.091441   \n",
       "1        ZM  1191.100353  1473.689789   405.682498  0.018393  0.030029   \n",
       "2      DXCM   218.504035  1273.281759   849.326134  0.105031  0.021295   \n",
       "3      SPLK -1064.434087   -72.359266  -127.625338 -0.011367 -0.168823   \n",
       "4      SGEN   759.556952  -118.084957 -1390.521355  0.013767 -0.095379   \n",
       "..      ...          ...          ...          ...       ...       ...   \n",
       "98     NVDA   156.637749   201.356865   419.415270  0.077925  0.070005   \n",
       "99     PAYX    77.441170   116.583405   130.569997  0.128451  0.079349   \n",
       "100    KLAC    73.227875   285.357774    73.578936  0.142543  0.034000   \n",
       "101    CSCO    71.068582    64.528627    74.669499  0.080995  0.077686   \n",
       "102    ADSK   334.107322   622.734872   534.977047 -0.947520 -0.478073   \n",
       "\n",
       "       Q3 ROE     Q1 Date     Q2 Date     Q3 Date  \n",
       "0   -0.128634  2020-01-31  2020-04-30  2020-07-31  \n",
       "1    0.155144  2020-01-31  2020-04-30  2020-07-31  \n",
       "2    0.034198  2019-12-31  2020-03-31  2020-06-30  \n",
       "3   -0.156529  2020-01-31  2020-04-30  2020-07-31  \n",
       "4   -0.011681  2019-12-31  2020-03-31  2020-06-30  \n",
       "..        ...         ...         ...         ...  \n",
       "98   0.044703  2020-01-26  2020-04-26  2020-07-26  \n",
       "99   0.076153  2020-02-29  2020-05-31  2020-08-31  \n",
       "100  0.154292  2019-12-31  2020-03-31  2020-06-30  \n",
       "101  0.069515  2020-01-25  2020-04-25  2020-07-25  \n",
       "102  1.459138  2020-01-31  2020-04-30  2020-07-31  \n",
       "\n",
       "[103 rows x 10 columns]"
      ]
     },
     "execution_count": 3,
     "metadata": {},
     "output_type": "execute_result"
    }
   ],
   "source": [
    "financial_ratios_df = pd.read_csv(base + 'nasdaq_financial_ratios.csv')\n",
    "financial_ratios_df = financial_ratios_df.drop(columns='Unnamed: 0')\n",
    "financial_ratios_df"
   ]
  },
  {
   "cell_type": "code",
   "execution_count": 4,
   "metadata": {},
   "outputs": [
    {
     "data": {
      "text/html": [
       "\n",
       "        <iframe\n",
       "            width=\"100%\"\n",
       "            height=\"475\"\n",
       "            src=\"http://Aarons-MacBook-Pro.local:40000/dtale/iframe/1\"\n",
       "            frameborder=\"0\"\n",
       "            allowfullscreen\n",
       "        ></iframe>\n",
       "        "
      ],
      "text/plain": [
       "<IPython.lib.display.IFrame at 0x7fa4dfd06cd0>"
      ]
     },
     "metadata": {},
     "output_type": "display_data"
    },
    {
     "data": {
      "text/plain": []
     },
     "execution_count": 4,
     "metadata": {},
     "output_type": "execute_result"
    }
   ],
   "source": [
    "financial_growth_df = pd.read_csv(base + 'nasdaq_financial_growth.csv')\n",
    "dtale.show(financial_growth_df, ignore_duplicate=True)"
   ]
  },
  {
   "cell_type": "code",
   "execution_count": 5,
   "metadata": {},
   "outputs": [
    {
     "data": {
      "text/html": [
       "\n",
       "        <iframe\n",
       "            width=\"100%\"\n",
       "            height=\"475\"\n",
       "            src=\"http://Aarons-MacBook-Pro.local:40000/dtale/iframe/2\"\n",
       "            frameborder=\"0\"\n",
       "            allowfullscreen\n",
       "        ></iframe>\n",
       "        "
      ],
      "text/plain": [
       "<IPython.lib.display.IFrame at 0x7fa4dfd8ee50>"
      ]
     },
     "metadata": {},
     "output_type": "display_data"
    },
    {
     "data": {
      "text/plain": []
     },
     "execution_count": 5,
     "metadata": {},
     "output_type": "execute_result"
    }
   ],
   "source": [
    "nasdaq_df = historical_prices_df.merge(financial_ratios_df, how='outer', on=['Company', 'Q1 Date', 'Q2 Date', 'Q3 Date'])\n",
    "\n",
    "dtale.show(nasdaq_df, ignore_duplicate=True)"
   ]
  },
  {
   "cell_type": "code",
   "execution_count": 6,
   "metadata": {},
   "outputs": [],
   "source": [
    "clean_nasdaq_df = nasdaq_df.merge(financial_growth_df, how='outer', on=['Company', 'Q1 Date', 'Q2 Date', 'Q3 Date'])"
   ]
  },
  {
   "cell_type": "code",
   "execution_count": 7,
   "metadata": {},
   "outputs": [
    {
     "data": {
      "text/html": [
       "\n",
       "        <iframe\n",
       "            width=\"100%\"\n",
       "            height=\"475\"\n",
       "            src=\"http://Aarons-MacBook-Pro.local:40000/dtale/iframe/3\"\n",
       "            frameborder=\"0\"\n",
       "            allowfullscreen\n",
       "        ></iframe>\n",
       "        "
      ],
      "text/plain": [
       "<IPython.lib.display.IFrame at 0x7fa4dfd91eb0>"
      ]
     },
     "metadata": {},
     "output_type": "display_data"
    },
    {
     "data": {
      "text/plain": []
     },
     "execution_count": 7,
     "metadata": {},
     "output_type": "execute_result"
    }
   ],
   "source": [
    "# remove [SIRI BIDU INTC TCOM] from df\n",
    "\n",
    "clean_nasdaq_df = clean_nasdaq_df.loc[(clean_nasdaq_df['Company'] != 'BIDU') & (clean_nasdaq_df['Company'] != 'SIRI')\n",
    "                                     & (clean_nasdaq_df['Company'] != 'INTC') & (clean_nasdaq_df['Company'] != 'TCOM')]\n",
    "\n",
    "clean_nasdaq_df = clean_nasdaq_df.reset_index(drop=True)\n",
    "\n",
    "# change price to that 12/27/19\n",
    "clean_nasdaq_df.loc[50, 'Q1 Price'] = 72.449997\n",
    "\n",
    "# change price to that 3/27/20\n",
    "clean_nasdaq_df.loc[50, 'Q2 Price'] = 61.935001\n",
    "\n",
    "# change price to that of 6/26/20\n",
    "clean_nasdaq_df.loc[50, 'Q3 Price'] = 88.407501\n",
    "\n",
    "dtale.show(clean_nasdaq_df, ignore_duplicate=True)"
   ]
  },
  {
   "cell_type": "code",
   "execution_count": 8,
   "metadata": {},
   "outputs": [],
   "source": [
    "clean_nasdaq_df = clean_nasdaq_df.dropna()\n",
    "clean_nasdaq_df = clean_nasdaq_df.reset_index(drop=True)"
   ]
  },
  {
   "cell_type": "code",
   "execution_count": 9,
   "metadata": {},
   "outputs": [
    {
     "data": {
      "text/html": [
       "\n",
       "        <iframe\n",
       "            width=\"100%\"\n",
       "            height=\"475\"\n",
       "            src=\"http://Aarons-MacBook-Pro.local:40000/dtale/iframe/4\"\n",
       "            frameborder=\"0\"\n",
       "            allowfullscreen\n",
       "        ></iframe>\n",
       "        "
      ],
      "text/plain": [
       "<IPython.lib.display.IFrame at 0x7fa4dfdbab50>"
      ]
     },
     "metadata": {},
     "output_type": "display_data"
    },
    {
     "data": {
      "text/plain": []
     },
     "execution_count": 9,
     "metadata": {},
     "output_type": "execute_result"
    }
   ],
   "source": [
    "dtale.show(clean_nasdaq_df, ignore_duplicate=True)"
   ]
  },
  {
   "cell_type": "markdown",
   "metadata": {},
   "source": [
    "### "
   ]
  },
  {
   "cell_type": "code",
   "execution_count": 10,
   "metadata": {},
   "outputs": [
    {
     "data": {
      "text/html": [
       "\n",
       "        <iframe\n",
       "            width=\"100%\"\n",
       "            height=\"475\"\n",
       "            src=\"http://Aarons-MacBook-Pro.local:40000/dtale/iframe/5\"\n",
       "            frameborder=\"0\"\n",
       "            allowfullscreen\n",
       "        ></iframe>\n",
       "        "
      ],
      "text/plain": [
       "<IPython.lib.display.IFrame at 0x7fa4dfd78790>"
      ]
     },
     "metadata": {},
     "output_type": "display_data"
    },
    {
     "data": {
      "text/plain": []
     },
     "execution_count": 10,
     "metadata": {},
     "output_type": "execute_result"
    }
   ],
   "source": [
    "big_tech_df = clean_nasdaq_df.loc[(clean_nasdaq_df['Company'] == 'FB') | (clean_nasdaq_df['Company'] == 'AMZN') |  \n",
    "                                  (clean_nasdaq_df['Company'] == 'AAPL') | \n",
    "                                  (clean_nasdaq_df['Company'] == 'MSFT') | \n",
    "                                  (clean_nasdaq_df['Company'] ==  'NFLX') | \n",
    "                                  (clean_nasdaq_df['Company'] == 'GOOG')]\n",
    "\n",
    "big_tech_df = big_tech_df.reset_index(drop=True)\n",
    "dtale.show(big_tech_df, ignore_duplicate=True)"
   ]
  },
  {
   "cell_type": "code",
   "execution_count": 33,
   "metadata": {},
   "outputs": [
    {
     "data": {
      "text/html": [
       "\n",
       "        <iframe\n",
       "            width=\"100%\"\n",
       "            height=\"475\"\n",
       "            src=\"http://Aarons-MacBook-Pro.local:40000/dtale/iframe/8\"\n",
       "            frameborder=\"0\"\n",
       "            allowfullscreen\n",
       "        ></iframe>\n",
       "        "
      ],
      "text/plain": [
       "<IPython.lib.display.IFrame at 0x7fa4e29a0d90>"
      ]
     },
     "metadata": {},
     "output_type": "display_data"
    },
    {
     "data": {
      "text/plain": []
     },
     "execution_count": 33,
     "metadata": {},
     "output_type": "execute_result"
    }
   ],
   "source": [
    "# add price changes as percentage for NASDAQ\n",
    "for index, row in clean_nasdaq_df.iterrows():\n",
    "    clean_nasdaq_df.loc[index, 'Q1 Price Change'] =  100 * (row['Q1 Price'] - row['Q1 Price'])/(row['Q1 Price'])\n",
    "    clean_nasdaq_df.loc[index, 'Q2 Price Change'] =  100 * (row['Q2 Price'] - row['Q1 Price'])/(row['Q1 Price'])\n",
    "    clean_nasdaq_df.loc[index, 'Q3 Price Change'] =  100 * (row['Q3 Price'] - row['Q2 Price'])/(row['Q2 Price'])\n",
    "\n",
    "clean_nasdaq_df.to_csv('../output/clean_nasdaq_df.csv')\n",
    "dtale.show(clean_nasdaq_df, ignore_duplicate=True)"
   ]
  },
  {
   "cell_type": "code",
   "execution_count": 76,
   "metadata": {},
   "outputs": [
    {
     "data": {
      "image/png": "[encoded data removed]",
      "text/plain": [
       "<Figure size 1080x720 with 1 Axes>"
      ]
     },
     "metadata": {
      "needs_background": "light"
     },
     "output_type": "display_data"
    },
    {
     "name": "stdout",
     "output_type": "stream",
     "text": [
      "The r-value is: 0.020768396239956997\n"
     ]
    }
   ],
   "source": [
    "q1_rev = clean_nasdaq_df[\"Q1 Rev Growth\"].to_list()\n",
    "q2_rev = clean_nasdaq_df[\"Q2 Rev Growth\"].to_list()\n",
    "q3_rev = clean_nasdaq_df[\"Q3 Rev Growth\"].to_list()\n",
    "\n",
    "q1_pe = clean_nasdaq_df[\"Q1 P/E\"].to_list()\n",
    "q2_pe = clean_nasdaq_df[\"Q2 P/E\"].to_list()\n",
    "q3_pe = clean_nasdaq_df[\"Q3 P/E\"].to_list()\n",
    "\n",
    "# removes the largest outliers in the dataset\n",
    "q3_rev.remove(max(q3_rev))\n",
    "q3_pe.remove(q3_pe[q3_rev.index(max(q3_rev))])\n",
    "q3_rev.remove(q3_rev[q3_pe.index(max(q3_pe))])\n",
    "q3_pe.remove(max(q3_pe))\n",
    "\n",
    "rev_growth = q1_rev + q2_rev + q3_rev\n",
    "pe_ratios = q1_pe + q2_pe + q3_pe \n",
    "\n",
    "x_values = np.array(rev_growth)\n",
    "y_values = np.array(pe_ratios)\n",
    "\n",
    "slope, intercept, r_value, p_value, std_err = stats.linregress(x_values, y_values)\n",
    "regress_values = x_values * slope + intercept\n",
    "line_eq = \"y = \" + str(round(slope,2)) + \"x + \" + str(round(intercept,2))\n",
    "\n",
    "plt.subplots(figsize=(15, 10))\n",
    "plt.plot(x_values, regress_values, \"r--\")\n",
    "plt.annotate(line_eq,(0,3000),fontsize=30, color=\"red\")\n",
    "plt.scatter(x_values, y_values, edgecolors=\"black\", facecolors=\"blue\")\n",
    "plt.xlabel(\"Rev. Growth (%)\")\n",
    "plt.ylabel(\"Price to Earnings (P/E)\")\n",
    "plt.title(\"NASDAQ P/E vs. Rev. Growth (%)\")\n",
    "plt.savefig(\"../graphs/nasdaq_rev_pe.png\")\n",
    "plt.show()\n",
    "print(f\"The r-value is: {r_value}\")\n",
    "#print(\"R-squared: %f\" % r_value**2)"
   ]
  },
  {
   "cell_type": "markdown",
   "metadata": {},
   "source": [
    "### Analysis ###"
   ]
  },
  {
   "cell_type": "code",
   "execution_count": null,
   "metadata": {},
   "outputs": [],
   "source": []
  },
  {
   "cell_type": "code",
   "execution_count": null,
   "metadata": {},
   "outputs": [],
   "source": []
  },
  {
   "cell_type": "code",
   "execution_count": null,
   "metadata": {},
   "outputs": [],
   "source": []
  },
  {
   "cell_type": "code",
   "execution_count": null,
   "metadata": {},
   "outputs": [],
   "source": []
  },
  {
   "cell_type": "code",
   "execution_count": null,
   "metadata": {},
   "outputs": [],
   "source": []
  }
 ],
 "metadata": {
  "kernelspec": {
   "display_name": "Python 3",
   "language": "python",
   "name": "python3"
  },
  "language_info": {
   "codemirror_mode": {
    "name": "ipython",
    "version": 3
   },
   "file_extension": ".py",
   "mimetype": "text/x-python",
   "name": "python",
   "nbconvert_exporter": "python",
   "pygments_lexer": "ipython3",
   "version": "3.6.12"
  }
 },
 "nbformat": 4,
 "nbformat_minor": 4
}
